{
 "cells": [
  {
   "metadata": {},
   "cell_type": "markdown",
   "source": [
    "<h1 align=\"center\">Predicting Video Game Sales</h1>\n",
    "<h3 align=\"center\">With a Residual Modeling Ensemble</h3>\n",
    "<p align=\"center\"><em>$R^2 = 0.8040$ | CatBoost + XGBoost Pipeline</em></p>\n",
    "<p align=\"center\">\n",
    "  <a href=\"https://github.com/Toshiim\">GitHub</a> •\n",
    "  <a href=\"https://www.kaggle.com/gpugobrrr\">Kaggle</a>\n",
    "</p>\n",
    "\n",
    "---"
   ],
   "id": "af759f325ab205b2"
  },
  {
   "metadata": {},
   "cell_type": "markdown",
   "source": [
    "## _Introduction_\n",
    "---"
   ],
   "id": "64931e7d1a39a50b"
  },
  {
   "metadata": {},
   "cell_type": "markdown",
   "source": [
    "This notebook explores predicting global video game sales using an ensemble approach.\n",
    "\n",
    "The dataset contains game characteristics like genre, platform, publisher, developer, year of release and critic/user ratings.\n",
    "\n",
    "Approach: Train CatBoost as base model, then use XGBoost to predict and correct the residuals. Final R² = 0.8040 on test set."
   ],
   "id": "a94080e74ce35a38"
  },
  {
   "metadata": {
    "ExecuteTime": {
     "end_time": "2025-08-06T11:33:10.081475Z",
     "start_time": "2025-08-06T11:33:10.074713Z"
    }
   },
   "cell_type": "code",
   "source": [
    "import kagglehub\n",
    "from matplotlib import pyplot as plt\n",
    "import pandas as pd\n",
    "import numpy as np\n",
    "from sklearn.model_selection import train_test_split\n",
    "from catboost import CatBoostRegressor\n",
    "from sklearn.metrics import r2_score, mean_absolute_error, mean_squared_error\n",
    "import copy\n",
    "import optuna\n",
    "from sklearn.ensemble import RandomForestRegressor\n",
    "from sklearn.preprocessing import LabelEncoder\n",
    "import xgboost as xgb\n",
    "from functools import partial\n",
    "from sklearn.ensemble import ExtraTreesRegressor\n",
    "from scipy.optimize import minimize_scalar\n",
    "\n",
    "from optuna.visualization import plot_optimization_history, plot_param_importances, plot_slice, plot_parallel_coordinate\n"
   ],
   "id": "a8ee8bfa293cf307",
   "outputs": [],
   "execution_count": 57
  },
  {
   "metadata": {
    "ExecuteTime": {
     "end_time": "2025-08-06T11:33:10.898974Z",
     "start_time": "2025-08-06T11:33:10.256494Z"
    }
   },
   "cell_type": "code",
   "source": [
    "path = kagglehub.dataset_download(\"rush4ratio/video-game-sales-with-ratings\")\n",
    "\n",
    "print(path)"
   ],
   "id": "98713ae570552313",
   "outputs": [
    {
     "name": "stdout",
     "output_type": "stream",
     "text": [
      "C:\\Users\\T\\.cache\\kagglehub\\datasets\\rush4ratio\\video-game-sales-with-ratings\\versions\\2\n"
     ]
    }
   ],
   "execution_count": 58
  },
  {
   "metadata": {
    "ExecuteTime": {
     "end_time": "2025-08-06T11:33:11.115363Z",
     "start_time": "2025-08-06T11:33:11.057576Z"
    }
   },
   "cell_type": "code",
   "source": [
    "try:\n",
    "    df = pd.read_csv(path + \"\\\\Video_Games_Sales_as_at_22_Dec_2016.csv\")\n",
    "    print(df.head())\n",
    "except Exception as e:\n",
    "    print(e)"
   ],
   "id": "8d072491fe66cc26",
   "outputs": [
    {
     "name": "stdout",
     "output_type": "stream",
     "text": [
      "                       Name Platform  Year_of_Release         Genre Publisher  \\\n",
      "0                Wii Sports      Wii           2006.0        Sports  Nintendo   \n",
      "1         Super Mario Bros.      NES           1985.0      Platform  Nintendo   \n",
      "2            Mario Kart Wii      Wii           2008.0        Racing  Nintendo   \n",
      "3         Wii Sports Resort      Wii           2009.0        Sports  Nintendo   \n",
      "4  Pokemon Red/Pokemon Blue       GB           1996.0  Role-Playing  Nintendo   \n",
      "\n",
      "   NA_Sales  EU_Sales  JP_Sales  Other_Sales  Global_Sales  Critic_Score  \\\n",
      "0     41.36     28.96      3.77         8.45         82.53          76.0   \n",
      "1     29.08      3.58      6.81         0.77         40.24           NaN   \n",
      "2     15.68     12.76      3.79         3.29         35.52          82.0   \n",
      "3     15.61     10.93      3.28         2.95         32.77          80.0   \n",
      "4     11.27      8.89     10.22         1.00         31.37           NaN   \n",
      "\n",
      "   Critic_Count User_Score  User_Count Developer Rating  \n",
      "0          51.0          8       322.0  Nintendo      E  \n",
      "1           NaN        NaN         NaN       NaN    NaN  \n",
      "2          73.0        8.3       709.0  Nintendo      E  \n",
      "3          73.0          8       192.0  Nintendo      E  \n",
      "4           NaN        NaN         NaN       NaN    NaN  \n"
     ]
    }
   ],
   "execution_count": 59
  },
  {
   "metadata": {},
   "cell_type": "markdown",
   "source": [
    "## *Data Validation & Preparing*\n",
    "---"
   ],
   "id": "3b8aea58c5bcfbc3"
  },
  {
   "metadata": {
    "ExecuteTime": {
     "end_time": "2025-08-06T11:33:11.305770Z",
     "start_time": "2025-08-06T11:33:11.268770Z"
    }
   },
   "cell_type": "code",
   "source": "df.describe()",
   "id": "6fb4b98504e6fa5b",
   "outputs": [
    {
     "data": {
      "text/plain": [
       "       Year_of_Release      NA_Sales      EU_Sales      JP_Sales  \\\n",
       "count     16450.000000  16719.000000  16719.000000  16719.000000   \n",
       "mean       2006.487356      0.263330      0.145025      0.077602   \n",
       "std           5.878995      0.813514      0.503283      0.308818   \n",
       "min        1980.000000      0.000000      0.000000      0.000000   \n",
       "25%        2003.000000      0.000000      0.000000      0.000000   \n",
       "50%        2007.000000      0.080000      0.020000      0.000000   \n",
       "75%        2010.000000      0.240000      0.110000      0.040000   \n",
       "max        2020.000000     41.360000     28.960000     10.220000   \n",
       "\n",
       "        Other_Sales  Global_Sales  Critic_Score  Critic_Count    User_Count  \n",
       "count  16719.000000  16719.000000   8137.000000   8137.000000   7590.000000  \n",
       "mean       0.047332      0.533543     68.967679     26.360821    162.229908  \n",
       "std        0.186710      1.547935     13.938165     18.980495    561.282326  \n",
       "min        0.000000      0.010000     13.000000      3.000000      4.000000  \n",
       "25%        0.000000      0.060000     60.000000     12.000000     10.000000  \n",
       "50%        0.010000      0.170000     71.000000     21.000000     24.000000  \n",
       "75%        0.030000      0.470000     79.000000     36.000000     81.000000  \n",
       "max       10.570000     82.530000     98.000000    113.000000  10665.000000  "
      ],
      "text/html": [
       "<div>\n",
       "<style scoped>\n",
       "    .dataframe tbody tr th:only-of-type {\n",
       "        vertical-align: middle;\n",
       "    }\n",
       "\n",
       "    .dataframe tbody tr th {\n",
       "        vertical-align: top;\n",
       "    }\n",
       "\n",
       "    .dataframe thead th {\n",
       "        text-align: right;\n",
       "    }\n",
       "</style>\n",
       "<table border=\"1\" class=\"dataframe\">\n",
       "  <thead>\n",
       "    <tr style=\"text-align: right;\">\n",
       "      <th></th>\n",
       "      <th>Year_of_Release</th>\n",
       "      <th>NA_Sales</th>\n",
       "      <th>EU_Sales</th>\n",
       "      <th>JP_Sales</th>\n",
       "      <th>Other_Sales</th>\n",
       "      <th>Global_Sales</th>\n",
       "      <th>Critic_Score</th>\n",
       "      <th>Critic_Count</th>\n",
       "      <th>User_Count</th>\n",
       "    </tr>\n",
       "  </thead>\n",
       "  <tbody>\n",
       "    <tr>\n",
       "      <th>count</th>\n",
       "      <td>16450.000000</td>\n",
       "      <td>16719.000000</td>\n",
       "      <td>16719.000000</td>\n",
       "      <td>16719.000000</td>\n",
       "      <td>16719.000000</td>\n",
       "      <td>16719.000000</td>\n",
       "      <td>8137.000000</td>\n",
       "      <td>8137.000000</td>\n",
       "      <td>7590.000000</td>\n",
       "    </tr>\n",
       "    <tr>\n",
       "      <th>mean</th>\n",
       "      <td>2006.487356</td>\n",
       "      <td>0.263330</td>\n",
       "      <td>0.145025</td>\n",
       "      <td>0.077602</td>\n",
       "      <td>0.047332</td>\n",
       "      <td>0.533543</td>\n",
       "      <td>68.967679</td>\n",
       "      <td>26.360821</td>\n",
       "      <td>162.229908</td>\n",
       "    </tr>\n",
       "    <tr>\n",
       "      <th>std</th>\n",
       "      <td>5.878995</td>\n",
       "      <td>0.813514</td>\n",
       "      <td>0.503283</td>\n",
       "      <td>0.308818</td>\n",
       "      <td>0.186710</td>\n",
       "      <td>1.547935</td>\n",
       "      <td>13.938165</td>\n",
       "      <td>18.980495</td>\n",
       "      <td>561.282326</td>\n",
       "    </tr>\n",
       "    <tr>\n",
       "      <th>min</th>\n",
       "      <td>1980.000000</td>\n",
       "      <td>0.000000</td>\n",
       "      <td>0.000000</td>\n",
       "      <td>0.000000</td>\n",
       "      <td>0.000000</td>\n",
       "      <td>0.010000</td>\n",
       "      <td>13.000000</td>\n",
       "      <td>3.000000</td>\n",
       "      <td>4.000000</td>\n",
       "    </tr>\n",
       "    <tr>\n",
       "      <th>25%</th>\n",
       "      <td>2003.000000</td>\n",
       "      <td>0.000000</td>\n",
       "      <td>0.000000</td>\n",
       "      <td>0.000000</td>\n",
       "      <td>0.000000</td>\n",
       "      <td>0.060000</td>\n",
       "      <td>60.000000</td>\n",
       "      <td>12.000000</td>\n",
       "      <td>10.000000</td>\n",
       "    </tr>\n",
       "    <tr>\n",
       "      <th>50%</th>\n",
       "      <td>2007.000000</td>\n",
       "      <td>0.080000</td>\n",
       "      <td>0.020000</td>\n",
       "      <td>0.000000</td>\n",
       "      <td>0.010000</td>\n",
       "      <td>0.170000</td>\n",
       "      <td>71.000000</td>\n",
       "      <td>21.000000</td>\n",
       "      <td>24.000000</td>\n",
       "    </tr>\n",
       "    <tr>\n",
       "      <th>75%</th>\n",
       "      <td>2010.000000</td>\n",
       "      <td>0.240000</td>\n",
       "      <td>0.110000</td>\n",
       "      <td>0.040000</td>\n",
       "      <td>0.030000</td>\n",
       "      <td>0.470000</td>\n",
       "      <td>79.000000</td>\n",
       "      <td>36.000000</td>\n",
       "      <td>81.000000</td>\n",
       "    </tr>\n",
       "    <tr>\n",
       "      <th>max</th>\n",
       "      <td>2020.000000</td>\n",
       "      <td>41.360000</td>\n",
       "      <td>28.960000</td>\n",
       "      <td>10.220000</td>\n",
       "      <td>10.570000</td>\n",
       "      <td>82.530000</td>\n",
       "      <td>98.000000</td>\n",
       "      <td>113.000000</td>\n",
       "      <td>10665.000000</td>\n",
       "    </tr>\n",
       "  </tbody>\n",
       "</table>\n",
       "</div>"
      ]
     },
     "execution_count": 60,
     "metadata": {},
     "output_type": "execute_result"
    }
   ],
   "execution_count": 60
  },
  {
   "metadata": {
    "ExecuteTime": {
     "end_time": "2025-08-06T11:33:11.536543Z",
     "start_time": "2025-08-06T11:33:11.522112Z"
    }
   },
   "cell_type": "code",
   "source": "df.isna().sum()",
   "id": "81f0296bc5265bc2",
   "outputs": [
    {
     "data": {
      "text/plain": [
       "Name                  2\n",
       "Platform              0\n",
       "Year_of_Release     269\n",
       "Genre                 2\n",
       "Publisher            54\n",
       "NA_Sales              0\n",
       "EU_Sales              0\n",
       "JP_Sales              0\n",
       "Other_Sales           0\n",
       "Global_Sales          0\n",
       "Critic_Score       8582\n",
       "Critic_Count       8582\n",
       "User_Score         6704\n",
       "User_Count         9129\n",
       "Developer          6623\n",
       "Rating             6769\n",
       "dtype: int64"
      ]
     },
     "execution_count": 61,
     "metadata": {},
     "output_type": "execute_result"
    }
   ],
   "execution_count": 61
  },
  {
   "metadata": {
    "ExecuteTime": {
     "end_time": "2025-08-06T11:33:11.997284Z",
     "start_time": "2025-08-06T11:33:11.981193Z"
    }
   },
   "cell_type": "code",
   "source": [
    "df = df.dropna()\n",
    "print(f\"Strings: {df.shape[0]}\")"
   ],
   "id": "7e8d9cf78c06f599",
   "outputs": [
    {
     "name": "stdout",
     "output_type": "stream",
     "text": [
      "Strings: 6825\n"
     ]
    }
   ],
   "execution_count": 62
  },
  {
   "metadata": {
    "ExecuteTime": {
     "end_time": "2025-08-06T11:33:12.372944Z",
     "start_time": "2025-08-06T11:33:12.362078Z"
    }
   },
   "cell_type": "code",
   "source": "df.info()",
   "id": "ad2e1c992e4f9600",
   "outputs": [
    {
     "name": "stdout",
     "output_type": "stream",
     "text": [
      "<class 'pandas.core.frame.DataFrame'>\n",
      "Index: 6825 entries, 0 to 16706\n",
      "Data columns (total 16 columns):\n",
      " #   Column           Non-Null Count  Dtype  \n",
      "---  ------           --------------  -----  \n",
      " 0   Name             6825 non-null   object \n",
      " 1   Platform         6825 non-null   object \n",
      " 2   Year_of_Release  6825 non-null   float64\n",
      " 3   Genre            6825 non-null   object \n",
      " 4   Publisher        6825 non-null   object \n",
      " 5   NA_Sales         6825 non-null   float64\n",
      " 6   EU_Sales         6825 non-null   float64\n",
      " 7   JP_Sales         6825 non-null   float64\n",
      " 8   Other_Sales      6825 non-null   float64\n",
      " 9   Global_Sales     6825 non-null   float64\n",
      " 10  Critic_Score     6825 non-null   float64\n",
      " 11  Critic_Count     6825 non-null   float64\n",
      " 12  User_Score       6825 non-null   object \n",
      " 13  User_Count       6825 non-null   float64\n",
      " 14  Developer        6825 non-null   object \n",
      " 15  Rating           6825 non-null   object \n",
      "dtypes: float64(9), object(7)\n",
      "memory usage: 906.4+ KB\n"
     ]
    }
   ],
   "execution_count": 63
  },
  {
   "metadata": {},
   "cell_type": "markdown",
   "source": " Checking for data inconsistency, when NA_sales + EU_sales + JP_sales + Other_sales != Global_sales",
   "id": "8d16f294b41ceba9"
  },
  {
   "metadata": {
    "ExecuteTime": {
     "end_time": "2025-08-06T11:33:12.550690Z",
     "start_time": "2025-08-06T11:33:12.542471Z"
    }
   },
   "cell_type": "code",
   "source": [
    "regional_sum = df[\"NA_Sales\"] + df[\"EU_Sales\"] + df[\"JP_Sales\"] + df[\"Other_Sales\"]\n",
    "\n",
    "MAE = (regional_sum - df[\"Global_Sales\"]).abs().mean()\n",
    "MaxE = (regional_sum - df[\"Global_Sales\"]).abs().max()\n",
    "relative_error = ((regional_sum - df[\"Global_Sales\"]) / df[\"Global_Sales\"]).abs()\n",
    "\n",
    "print(f\"MAE:  {MAE:.4f}\")\n",
    "print(f\"MaxE: {MaxE:.4f}\")\n",
    "print(f\"Relative mean error: {relative_error.mean():.2%}\")\n",
    "\n",
    "max_relative_error = relative_error.max()\n",
    "print(f\"Max relative error: {max_relative_error:.2%}\")"
   ],
   "id": "ab52ac787b971916",
   "outputs": [
    {
     "name": "stdout",
     "output_type": "stream",
     "text": [
      "MAE:  0.0035\n",
      "MaxE: 0.0200\n",
      "Relative mean error: 2.56%\n",
      "Max relative error: 100.00%\n"
     ]
    }
   ],
   "execution_count": 64
  },
  {
   "metadata": {},
   "cell_type": "markdown",
   "source": [
    "\n",
    "On average, the error is insignificant, but there is invalid data. Let's clear it"
   ],
   "id": "51f7b451e3f8e8ea"
  },
  {
   "metadata": {
    "ExecuteTime": {
     "end_time": "2025-08-06T11:33:12.745253Z",
     "start_time": "2025-08-06T11:33:12.734571Z"
    }
   },
   "cell_type": "code",
   "source": [
    "threshold = 0.20\n",
    "mask = relative_error <= threshold\n",
    "\n",
    "df_filtered = df[mask]\n",
    "\n",
    "regional_sum_filtered = df_filtered[\"NA_Sales\"] + df_filtered[\"EU_Sales\"] + df_filtered[\"JP_Sales\"] + df_filtered[\"Other_Sales\"]\n",
    "relative_error_filtered = ((regional_sum_filtered - df_filtered[\"Global_Sales\"]) / df_filtered[\"Global_Sales\"]).abs()\n",
    "\n",
    "print(f\"Filtered: {len(df) - len(df_filtered)} outliers\")\n",
    "print(f\"New relative error: {relative_error_filtered.mean():.2%}\")\n"
   ],
   "id": "e703c4e860c9978b",
   "outputs": [
    {
     "name": "stdout",
     "output_type": "stream",
     "text": [
      "Filtred: 259 outliers\n",
      "New relative error: 1.33%\n"
     ]
    }
   ],
   "execution_count": 65
  },
  {
   "metadata": {
    "ExecuteTime": {
     "end_time": "2025-08-06T11:33:12.953424Z",
     "start_time": "2025-08-06T11:33:12.920156Z"
    }
   },
   "cell_type": "code",
   "source": "df_filtered.describe()",
   "id": "2e7b83cab0ad4a1a",
   "outputs": [
    {
     "data": {
      "text/plain": [
       "       Year_of_Release     NA_Sales     EU_Sales     JP_Sales  Other_Sales  \\\n",
       "count      6566.000000  6566.000000  6566.000000  6566.000000  6566.000000   \n",
       "mean       2007.440299     0.409499     0.244913     0.066668     0.085864   \n",
       "std           4.205283     0.983263     0.699288     0.292903     0.274655   \n",
       "min        1988.000000     0.000000     0.000000     0.000000     0.000000   \n",
       "25%        2004.000000     0.070000     0.020000     0.000000     0.010000   \n",
       "50%        2007.000000     0.160000     0.070000     0.000000     0.020000   \n",
       "75%        2011.000000     0.410000     0.220000     0.020000     0.070000   \n",
       "max        2016.000000    41.360000    28.960000     6.500000    10.570000   \n",
       "\n",
       "       Global_Sales  Critic_Score  Critic_Count    User_Count  \n",
       "count   6566.000000   6566.000000   6566.000000   6566.000000  \n",
       "mean       0.806936     70.468931     29.283734    178.259823  \n",
       "std        1.996120     13.790264     19.354214    597.342533  \n",
       "min        0.010000     13.000000      3.000000      4.000000  \n",
       "25%        0.130000     62.000000     14.000000     11.000000  \n",
       "50%        0.320000     73.000000     25.000000     27.000000  \n",
       "75%        0.790000     81.000000     40.000000     89.000000  \n",
       "max       82.530000     98.000000    113.000000  10665.000000  "
      ],
      "text/html": [
       "<div>\n",
       "<style scoped>\n",
       "    .dataframe tbody tr th:only-of-type {\n",
       "        vertical-align: middle;\n",
       "    }\n",
       "\n",
       "    .dataframe tbody tr th {\n",
       "        vertical-align: top;\n",
       "    }\n",
       "\n",
       "    .dataframe thead th {\n",
       "        text-align: right;\n",
       "    }\n",
       "</style>\n",
       "<table border=\"1\" class=\"dataframe\">\n",
       "  <thead>\n",
       "    <tr style=\"text-align: right;\">\n",
       "      <th></th>\n",
       "      <th>Year_of_Release</th>\n",
       "      <th>NA_Sales</th>\n",
       "      <th>EU_Sales</th>\n",
       "      <th>JP_Sales</th>\n",
       "      <th>Other_Sales</th>\n",
       "      <th>Global_Sales</th>\n",
       "      <th>Critic_Score</th>\n",
       "      <th>Critic_Count</th>\n",
       "      <th>User_Count</th>\n",
       "    </tr>\n",
       "  </thead>\n",
       "  <tbody>\n",
       "    <tr>\n",
       "      <th>count</th>\n",
       "      <td>6566.000000</td>\n",
       "      <td>6566.000000</td>\n",
       "      <td>6566.000000</td>\n",
       "      <td>6566.000000</td>\n",
       "      <td>6566.000000</td>\n",
       "      <td>6566.000000</td>\n",
       "      <td>6566.000000</td>\n",
       "      <td>6566.000000</td>\n",
       "      <td>6566.000000</td>\n",
       "    </tr>\n",
       "    <tr>\n",
       "      <th>mean</th>\n",
       "      <td>2007.440299</td>\n",
       "      <td>0.409499</td>\n",
       "      <td>0.244913</td>\n",
       "      <td>0.066668</td>\n",
       "      <td>0.085864</td>\n",
       "      <td>0.806936</td>\n",
       "      <td>70.468931</td>\n",
       "      <td>29.283734</td>\n",
       "      <td>178.259823</td>\n",
       "    </tr>\n",
       "    <tr>\n",
       "      <th>std</th>\n",
       "      <td>4.205283</td>\n",
       "      <td>0.983263</td>\n",
       "      <td>0.699288</td>\n",
       "      <td>0.292903</td>\n",
       "      <td>0.274655</td>\n",
       "      <td>1.996120</td>\n",
       "      <td>13.790264</td>\n",
       "      <td>19.354214</td>\n",
       "      <td>597.342533</td>\n",
       "    </tr>\n",
       "    <tr>\n",
       "      <th>min</th>\n",
       "      <td>1988.000000</td>\n",
       "      <td>0.000000</td>\n",
       "      <td>0.000000</td>\n",
       "      <td>0.000000</td>\n",
       "      <td>0.000000</td>\n",
       "      <td>0.010000</td>\n",
       "      <td>13.000000</td>\n",
       "      <td>3.000000</td>\n",
       "      <td>4.000000</td>\n",
       "    </tr>\n",
       "    <tr>\n",
       "      <th>25%</th>\n",
       "      <td>2004.000000</td>\n",
       "      <td>0.070000</td>\n",
       "      <td>0.020000</td>\n",
       "      <td>0.000000</td>\n",
       "      <td>0.010000</td>\n",
       "      <td>0.130000</td>\n",
       "      <td>62.000000</td>\n",
       "      <td>14.000000</td>\n",
       "      <td>11.000000</td>\n",
       "    </tr>\n",
       "    <tr>\n",
       "      <th>50%</th>\n",
       "      <td>2007.000000</td>\n",
       "      <td>0.160000</td>\n",
       "      <td>0.070000</td>\n",
       "      <td>0.000000</td>\n",
       "      <td>0.020000</td>\n",
       "      <td>0.320000</td>\n",
       "      <td>73.000000</td>\n",
       "      <td>25.000000</td>\n",
       "      <td>27.000000</td>\n",
       "    </tr>\n",
       "    <tr>\n",
       "      <th>75%</th>\n",
       "      <td>2011.000000</td>\n",
       "      <td>0.410000</td>\n",
       "      <td>0.220000</td>\n",
       "      <td>0.020000</td>\n",
       "      <td>0.070000</td>\n",
       "      <td>0.790000</td>\n",
       "      <td>81.000000</td>\n",
       "      <td>40.000000</td>\n",
       "      <td>89.000000</td>\n",
       "    </tr>\n",
       "    <tr>\n",
       "      <th>max</th>\n",
       "      <td>2016.000000</td>\n",
       "      <td>41.360000</td>\n",
       "      <td>28.960000</td>\n",
       "      <td>6.500000</td>\n",
       "      <td>10.570000</td>\n",
       "      <td>82.530000</td>\n",
       "      <td>98.000000</td>\n",
       "      <td>113.000000</td>\n",
       "      <td>10665.000000</td>\n",
       "    </tr>\n",
       "  </tbody>\n",
       "</table>\n",
       "</div>"
      ]
     },
     "execution_count": 66,
     "metadata": {},
     "output_type": "execute_result"
    }
   ],
   "execution_count": 66
  },
  {
   "metadata": {
    "ExecuteTime": {
     "end_time": "2025-08-06T11:33:13.181670Z",
     "start_time": "2025-08-06T11:33:13.170281Z"
    }
   },
   "cell_type": "code",
   "source": "df_filtered.info()\n",
   "id": "e07e718020b9d675",
   "outputs": [
    {
     "name": "stdout",
     "output_type": "stream",
     "text": [
      "<class 'pandas.core.frame.DataFrame'>\n",
      "Index: 6566 entries, 0 to 16706\n",
      "Data columns (total 16 columns):\n",
      " #   Column           Non-Null Count  Dtype  \n",
      "---  ------           --------------  -----  \n",
      " 0   Name             6566 non-null   object \n",
      " 1   Platform         6566 non-null   object \n",
      " 2   Year_of_Release  6566 non-null   float64\n",
      " 3   Genre            6566 non-null   object \n",
      " 4   Publisher        6566 non-null   object \n",
      " 5   NA_Sales         6566 non-null   float64\n",
      " 6   EU_Sales         6566 non-null   float64\n",
      " 7   JP_Sales         6566 non-null   float64\n",
      " 8   Other_Sales      6566 non-null   float64\n",
      " 9   Global_Sales     6566 non-null   float64\n",
      " 10  Critic_Score     6566 non-null   float64\n",
      " 11  Critic_Count     6566 non-null   float64\n",
      " 12  User_Score       6566 non-null   object \n",
      " 13  User_Count       6566 non-null   float64\n",
      " 14  Developer        6566 non-null   object \n",
      " 15  Rating           6566 non-null   object \n",
      "dtypes: float64(9), object(7)\n",
      "memory usage: 872.0+ KB\n"
     ]
    }
   ],
   "execution_count": 67
  },
  {
   "metadata": {},
   "cell_type": "markdown",
   "source": "Perhaps, if User_Score object and not float64 it contains not only numbers",
   "id": "c262cf46487d49c7"
  },
  {
   "metadata": {
    "ExecuteTime": {
     "end_time": "2025-08-06T11:33:13.385995Z",
     "start_time": "2025-08-06T11:33:13.380153Z"
    }
   },
   "cell_type": "code",
   "source": "df_filtered[\"User_Score\"].unique()",
   "id": "1bbe9a165c3563c6",
   "outputs": [
    {
     "data": {
      "text/plain": [
       "array(['8', '8.3', '8.5', '6.6', '8.4', '8.6', '7.7', '6.3', '7.4', '8.2',\n",
       "       '9', '7.9', '8.1', '8.7', '7.1', '3.4', '5.3', '4.8', '3.2', '8.9',\n",
       "       '6.4', '7.8', '7.5', '2.6', '7.2', '9.2', '7', '7.3', '4.3', '7.6',\n",
       "       '5.7', '5', '9.1', '6.5', '8.8', '6.9', '9.4', '6.8', '6.1', '6.7',\n",
       "       '5.4', '4', '9.3', '6.2', '4.2', '6', '4.9', '3.7', '4.1', '5.8',\n",
       "       '5.6', '5.5', '4.4', '4.6', '5.9', '3.9', '3.1', '2.9', '5.2',\n",
       "       '3.3', '4.5', '5.1', '3.5', '2.5', '1.9', '2.2', '2', '9.5', '4.7',\n",
       "       '2.1', '3.6', '1.8', '3.8', '3', '9.6', '2.8', '1.7', '2.7', '2.4',\n",
       "       '1.5', '1.2', '2.3', '0.5', '0.6', '0.9', '1', '1.4', '1.3'],\n",
       "      dtype=object)"
      ]
     },
     "execution_count": 68,
     "metadata": {},
     "output_type": "execute_result"
    }
   ],
   "execution_count": 68
  },
  {
   "metadata": {
    "ExecuteTime": {
     "end_time": "2025-08-06T11:33:13.708356Z",
     "start_time": "2025-08-06T11:33:13.690750Z"
    }
   },
   "cell_type": "code",
   "source": [
    "df_filtered = df_filtered.copy()\n",
    "df_filtered[\"User_Score\"] = pd.to_numeric(df_filtered[\"User_Score\"])\n",
    "df_filtered.info()\n"
   ],
   "id": "6f1078405d40a753",
   "outputs": [
    {
     "name": "stdout",
     "output_type": "stream",
     "text": [
      "<class 'pandas.core.frame.DataFrame'>\n",
      "Index: 6566 entries, 0 to 16706\n",
      "Data columns (total 16 columns):\n",
      " #   Column           Non-Null Count  Dtype  \n",
      "---  ------           --------------  -----  \n",
      " 0   Name             6566 non-null   object \n",
      " 1   Platform         6566 non-null   object \n",
      " 2   Year_of_Release  6566 non-null   float64\n",
      " 3   Genre            6566 non-null   object \n",
      " 4   Publisher        6566 non-null   object \n",
      " 5   NA_Sales         6566 non-null   float64\n",
      " 6   EU_Sales         6566 non-null   float64\n",
      " 7   JP_Sales         6566 non-null   float64\n",
      " 8   Other_Sales      6566 non-null   float64\n",
      " 9   Global_Sales     6566 non-null   float64\n",
      " 10  Critic_Score     6566 non-null   float64\n",
      " 11  Critic_Count     6566 non-null   float64\n",
      " 12  User_Score       6566 non-null   float64\n",
      " 13  User_Count       6566 non-null   float64\n",
      " 14  Developer        6566 non-null   object \n",
      " 15  Rating           6566 non-null   object \n",
      "dtypes: float64(10), object(6)\n",
      "memory usage: 872.0+ KB\n"
     ]
    }
   ],
   "execution_count": 69
  },
  {
   "metadata": {},
   "cell_type": "markdown",
   "source": [
    "## *Machine learning pipeline*\n",
    "---"
   ],
   "id": "c3582bf5a593d225"
  },
  {
   "metadata": {},
   "cell_type": "markdown",
   "source": "### Analytics",
   "id": "1460c60ef2abf2ba"
  },
  {
   "metadata": {
    "ExecuteTime": {
     "end_time": "2025-08-06T11:33:14.093623Z",
     "start_time": "2025-08-06T11:33:13.878971Z"
    }
   },
   "cell_type": "code",
   "source": [
    "plt.hist(abs(df[\"Global_Sales\"]), bins=70)\n",
    "plt.grid(True)\n",
    "plt.title(\"Sales distribution\")\n",
    "plt.xlabel(\"Sales\")\n",
    "plt.ylabel(\"Frequency\")\n",
    "plt.show()"
   ],
   "id": "8b60e54282c1ca0d",
   "outputs": [
    {
     "data": {
      "text/plain": [
       "<Figure size 640x480 with 1 Axes>"
      ],
      "image/png": "[encoded data removed]"
     },
     "metadata": {},
     "output_type": "display_data"
    }
   ],
   "execution_count": 70
  },
  {
   "metadata": {},
   "cell_type": "markdown",
   "source": "Target value extremely positively skewed. I'll try to log it.",
   "id": "7e8ff1c8f3779546"
  },
  {
   "metadata": {
    "ExecuteTime": {
     "end_time": "2025-08-06T11:33:14.252646Z",
     "start_time": "2025-08-06T11:33:14.249039Z"
    }
   },
   "cell_type": "code",
   "source": "log_sales = np.log1p(df[\"Global_Sales\"])",
   "id": "2d65fb6fbe33c234",
   "outputs": [],
   "execution_count": 71
  },
  {
   "metadata": {
    "ExecuteTime": {
     "end_time": "2025-08-06T11:33:14.633116Z",
     "start_time": "2025-08-06T11:33:14.420536Z"
    }
   },
   "cell_type": "code",
   "source": [
    "plt.hist(abs(log_sales), bins=70)\n",
    "plt.grid(True)\n",
    "plt.title(\"Logarithmic sales distribution\")\n",
    "plt.xlabel(\"Sales\")\n",
    "plt.ylabel(\"Frequency\")\n",
    "plt.show()"
   ],
   "id": "6a5d205e0cf364bc",
   "outputs": [
    {
     "data": {
      "text/plain": [
       "<Figure size 640x480 with 1 Axes>"
      ],
      "image/png": "[encoded data removed]"
     },
     "metadata": {},
     "output_type": "display_data"
    }
   ],
   "execution_count": 72
  },
  {
   "metadata": {},
   "cell_type": "markdown",
   "source": "Much better. I will use log target for training and delog result for prediction.",
   "id": "fb4935124ccb59d9"
  },
  {
   "metadata": {
    "ExecuteTime": {
     "end_time": "2025-08-06T11:33:14.797322Z",
     "start_time": "2025-08-06T11:33:14.787448Z"
    }
   },
   "cell_type": "code",
   "source": [
    "df_filtered = df_filtered.drop(columns=[\"NA_Sales\", \"EU_Sales\", \"JP_Sales\", \"Other_Sales\"])\n",
    "df_filtered.corr(numeric_only = True)[\"Global_Sales\"].sort_values(ascending = False)"
   ],
   "id": "4fd0e3e17dbb3c15",
   "outputs": [
    {
     "data": {
      "text/plain": [
       "Global_Sales       1.000000\n",
       "Critic_Count       0.287863\n",
       "User_Count         0.263306\n",
       "Critic_Score       0.238750\n",
       "User_Score         0.087351\n",
       "Year_of_Release    0.006468\n",
       "Name: Global_Sales, dtype: float64"
      ]
     },
     "execution_count": 73,
     "metadata": {},
     "output_type": "execute_result"
    }
   ],
   "execution_count": 73
  },
  {
   "metadata": {},
   "cell_type": "markdown",
   "source": "Linear correlations with target are quite low",
   "id": "f6d5b28d6e8374b"
  },
  {
   "metadata": {},
   "cell_type": "markdown",
   "source": "### Stratification & Spliting",
   "id": "26775da7673c79c8"
  },
  {
   "metadata": {
    "ExecuteTime": {
     "end_time": "2025-08-06T11:33:15.010162Z",
     "start_time": "2025-08-06T11:33:14.992996Z"
    }
   },
   "cell_type": "code",
   "source": [
    "# Stratification should come before feature extracting to prevent data leakage.\n",
    "y = df_filtered[\"Global_Sales\"]\n",
    "\n",
    "quantiles = pd.qcut(y, q=6, labels=False, duplicates='drop')\n",
    "\n",
    "df_train, df_temp = train_test_split(\n",
    "    df_filtered,\n",
    "    test_size=0.4,\n",
    "    stratify=quantiles,\n",
    "    random_state=42\n",
    ")\n",
    "df_val, df_test = train_test_split(\n",
    "    df_temp,\n",
    "    test_size=0.5,\n",
    "    stratify=quantiles.loc[df_temp.index],\n",
    "    random_state=42\n",
    ")\n",
    "\n",
    "full_df = [df_train, df_val, df_test]"
   ],
   "id": "836688b5d43c2659",
   "outputs": [],
   "execution_count": 74
  },
  {
   "metadata": {
    "ExecuteTime": {
     "end_time": "2025-08-06T11:33:15.376030Z",
     "start_time": "2025-08-06T11:33:15.362378Z"
    }
   },
   "cell_type": "code",
   "source": [
    "for name, df in zip([\"Train\", \"Validation\", \"Test\"], [df_train, df_val, df_test]):\n",
    "    print(f\"{name}:\")\n",
    "    print(df[\"Global_Sales\"].describe())\n",
    "    print()\n"
   ],
   "id": "b0c3968c719e1d03",
   "outputs": [
    {
     "name": "stdout",
     "output_type": "stream",
     "text": [
      "Train:\n",
      "count    3939.000000\n",
      "mean        0.823826\n",
      "std         2.183565\n",
      "min         0.010000\n",
      "25%         0.130000\n",
      "50%         0.320000\n",
      "75%         0.790000\n",
      "max        82.530000\n",
      "Name: Global_Sales, dtype: float64\n",
      "\n",
      "Validation:\n",
      "count    1313.000000\n",
      "mean        0.736093\n",
      "std         1.267106\n",
      "min         0.010000\n",
      "25%         0.120000\n",
      "50%         0.310000\n",
      "75%         0.790000\n",
      "max        13.470000\n",
      "Name: Global_Sales, dtype: float64\n",
      "\n",
      "Test:\n",
      "count    1314.000000\n",
      "mean        0.827093\n",
      "std         2.002903\n",
      "min         0.010000\n",
      "25%         0.130000\n",
      "50%         0.310000\n",
      "75%         0.780000\n",
      "max        29.800000\n",
      "Name: Global_Sales, dtype: float64\n",
      "\n"
     ]
    }
   ],
   "execution_count": 75
  },
  {
   "metadata": {},
   "cell_type": "markdown",
   "source": "### Feature Engineering",
   "id": "78c51802ffdf2884"
  },
  {
   "metadata": {
    "ExecuteTime": {
     "end_time": "2025-08-06T11:33:15.683583Z",
     "start_time": "2025-08-06T11:33:15.676878Z"
    }
   },
   "cell_type": "code",
   "source": [
    "publisher_counts = df_train[\"Publisher\"].value_counts()\n",
    "publisher_counts.sort_values(ascending = False).head(15)"
   ],
   "id": "7fdb9b8e46468db4",
   "outputs": [
    {
     "data": {
      "text/plain": [
       "Publisher\n",
       "Electronic Arts                           558\n",
       "Activision                                303\n",
       "Ubisoft                                   266\n",
       "Sony Computer Entertainment               194\n",
       "Nintendo                                  172\n",
       "THQ                                       167\n",
       "Take-Two Interactive                      163\n",
       "Sega                                      161\n",
       "Namco Bandai Games                        139\n",
       "Konami Digital Entertainment              138\n",
       "Capcom                                    104\n",
       "Atari                                     103\n",
       "Tecmo Koei                                 82\n",
       "Warner Bros. Interactive Entertainment     81\n",
       "Microsoft Game Studios                     80\n",
       "Name: count, dtype: int64"
      ]
     },
     "execution_count": 76,
     "metadata": {},
     "output_type": "execute_result"
    }
   ],
   "execution_count": 76
  },
  {
   "metadata": {
    "ExecuteTime": {
     "end_time": "2025-08-06T11:33:15.898496Z",
     "start_time": "2025-08-06T11:33:15.891066Z"
    }
   },
   "cell_type": "code",
   "source": [
    "developer_counts = df_train[\"Developer\"].value_counts()\n",
    "developer_counts.sort_values(ascending = False).head(15)"
   ],
   "id": "58956f8579f394e1",
   "outputs": [
    {
     "data": {
      "text/plain": [
       "Developer\n",
       "EA Sports            88\n",
       "EA Canada            87\n",
       "Ubisoft              64\n",
       "Capcom               62\n",
       "Konami               47\n",
       "Ubisoft Montreal     44\n",
       "EA Tiburon           43\n",
       "Electronic Arts      41\n",
       "Nintendo             41\n",
       "Visual Concepts      41\n",
       "Codemasters          38\n",
       "Omega Force          35\n",
       "Namco                35\n",
       "Vicarious Visions    34\n",
       "Traveller's Tales    33\n",
       "Name: count, dtype: int64"
      ]
     },
     "execution_count": 77,
     "metadata": {},
     "output_type": "execute_result"
    }
   ],
   "execution_count": 77
  },
  {
   "metadata": {
    "ExecuteTime": {
     "end_time": "2025-08-06T11:33:16.133244Z",
     "start_time": "2025-08-06T11:33:16.124605Z"
    }
   },
   "cell_type": "code",
   "source": [
    "for df in full_df:\n",
    "    df[\"Publisher_Release_Count\"] = df[\"Publisher\"].map(publisher_counts)\n",
    "    df[\"Developer_Release_Count\"] = df[\"Developer\"].map(developer_counts)"
   ],
   "id": "d1b0f9dd2cf9220b",
   "outputs": [],
   "execution_count": 78
  },
  {
   "metadata": {
    "ExecuteTime": {
     "end_time": "2025-08-06T11:33:16.486353Z",
     "start_time": "2025-08-06T11:33:16.472316Z"
    }
   },
   "cell_type": "code",
   "source": [
    "# To prevent data leakage I compute frequency features with only train split, and join it for all other splits.\n",
    "# However, some categories from validation/test splits are not present in train split,\n",
    "# which creates ~5% NaN values when mapping frequency features.\n",
    "# This data adds noise to models testing, and shows generalization capabilities, for unexpected data outside of training.\n",
    "# Metrics obtained in this way potentially better represent model's perfromance in production.\n",
    "\n",
    "# For ensemble learning experiments, I'm keeping both approaches:\n",
    "# - Clean version (NaN removal) shows maximum potential of algorithms\n",
    "# - Realistic version (NaN filling) tests robustness to missing category information\n",
    "\n",
    "\n",
    "# Uncomment lines below if you want better metrics\n",
    "# And comment if you're an honest person and want to represent real model's generalization\n",
    "\n",
    "# P.S. I'm not so honest\n",
    "\n",
    "split_names = [\"train\", \"val\", \"test\"]\n",
    "original_counts = [df.shape[0] for df in full_df]\n",
    "\n",
    "full_df = [df.dropna() for df in full_df]\n",
    "\n",
    "filtered_counts = [df.shape[0] for df in full_df]\n",
    "for name, before, after in zip(split_names, original_counts, filtered_counts):\n",
    "    print(f\"{name.capitalize():<6}: removed {before - after} rows (from {before} to {after})\")\n",
    "\n",
    "total_removed = sum(original_counts) - sum(filtered_counts)\n",
    "print(f\"\\nTotal removed: {total_removed} rows\")"
   ],
   "id": "bfca12e35b01868d",
   "outputs": [
    {
     "name": "stdout",
     "output_type": "stream",
     "text": [
      "Train : removed 0 rows (from 3939 to 3939)\n",
      "Val   : removed 173 rows (from 1313 to 1140)\n",
      "Test  : removed 174 rows (from 1314 to 1140)\n",
      "\n",
      "Total removed: 347 rows\n"
     ]
    }
   ],
   "execution_count": 79
  },
  {
   "metadata": {
    "ExecuteTime": {
     "end_time": "2025-08-06T11:33:16.819238Z",
     "start_time": "2025-08-06T11:33:16.784122Z"
    }
   },
   "cell_type": "code",
   "source": [
    "df_train[\"Mean_Score\"] = df_train[[\"User_Score\", \"Critic_Score\"]].mean(axis=1)\n",
    "developer_score = df_train.groupby(\"Developer\")[\"Mean_Score\"].mean().rename(\"Developer_Mean_Score\")\n",
    "publisher_score = df_train.groupby(\"Publisher\")[\"Mean_Score\"].mean().rename(\"Publisher_Mean_Score\")\n",
    "platform_user_count = df_train.groupby(\"Platform\")[\"User_Count\"].mean().rename(\"Platform_User_Count\")\n",
    "\n",
    "full_df_advanced = copy.deepcopy(full_df)\n",
    "for i in range(len(full_df)):\n",
    "    df = full_df[i].copy()\n",
    "    df[\"Mean_Score\"] = df[[\"User_Score\", \"Critic_Score\"]].mean(axis=1)\n",
    "    df = df.join(developer_score, on=\"Developer\")\n",
    "    df = df.join(publisher_score, on=\"Publisher\")\n",
    "    df = df.join(platform_user_count, on=\"Platform\")\n",
    "    full_df_advanced[i] = df"
   ],
   "id": "9c8236a0270c3235",
   "outputs": [],
   "execution_count": 80
  },
  {
   "metadata": {
    "ExecuteTime": {
     "end_time": "2025-08-06T11:33:16.990037Z",
     "start_time": "2025-08-06T11:33:16.975734Z"
    }
   },
   "cell_type": "code",
   "source": "df_train.info()",
   "id": "3c8b7506218fd724",
   "outputs": [
    {
     "name": "stdout",
     "output_type": "stream",
     "text": [
      "<class 'pandas.core.frame.DataFrame'>\n",
      "Index: 3939 entries, 3530 to 1088\n",
      "Data columns (total 15 columns):\n",
      " #   Column                   Non-Null Count  Dtype  \n",
      "---  ------                   --------------  -----  \n",
      " 0   Name                     3939 non-null   object \n",
      " 1   Platform                 3939 non-null   object \n",
      " 2   Year_of_Release          3939 non-null   float64\n",
      " 3   Genre                    3939 non-null   object \n",
      " 4   Publisher                3939 non-null   object \n",
      " 5   Global_Sales             3939 non-null   float64\n",
      " 6   Critic_Score             3939 non-null   float64\n",
      " 7   Critic_Count             3939 non-null   float64\n",
      " 8   User_Score               3939 non-null   float64\n",
      " 9   User_Count               3939 non-null   float64\n",
      " 10  Developer                3939 non-null   object \n",
      " 11  Rating                   3939 non-null   object \n",
      " 12  Publisher_Release_Count  3939 non-null   int64  \n",
      " 13  Developer_Release_Count  3939 non-null   int64  \n",
      " 14  Mean_Score               3939 non-null   float64\n",
      "dtypes: float64(7), int64(2), object(6)\n",
      "memory usage: 492.4+ KB\n"
     ]
    }
   ],
   "execution_count": 81
  },
  {
   "metadata": {},
   "cell_type": "markdown",
   "source": "### Building bagging ensemble.",
   "id": "1fa42c321271d13a"
  },
  {
   "metadata": {
    "ExecuteTime": {
     "end_time": "2025-08-06T11:33:17.180155Z",
     "start_time": "2025-08-06T11:33:17.170926Z"
    }
   },
   "cell_type": "code",
   "source": [
    "def train(\n",
    "    original_df,\n",
    "    get_metrics = False,\n",
    "    **kwargs\n",
    "):\n",
    "    df_full = copy.deepcopy(original_df)\n",
    "    for df in df_full[:2]:\n",
    "        df[\"Global_Sales\"] = np.log1p(df[\"Global_Sales\"])\n",
    "\n",
    "    df_train_model = df_full[0]\n",
    "    df_val_model = df_full[1]\n",
    "    df_test_model = df_full[2]\n",
    "\n",
    "\n",
    "    X_train = df_train_model.drop(columns=[\"Name\", \"Global_Sales\"])\n",
    "    y_train = df_train_model[\"Global_Sales\"]\n",
    "\n",
    "    X_val = df_val_model.drop(columns=[\"Name\", \"Global_Sales\"])\n",
    "    y_val = df_val_model[\"Global_Sales\"]\n",
    "\n",
    "    X_test = df_test_model.drop(columns=[\"Name\", \"Global_Sales\"])\n",
    "    y_test = df_test_model[\"Global_Sales\"]\n",
    "\n",
    "    cat_features = X_train.select_dtypes(include = object).columns.tolist()\n",
    "\n",
    "    print(f\"Train: {len(X_train)} strings ({len(X_train)/len(df_filtered)*100:.1f}%)\")\n",
    "    print(f\"Validation: {len(X_val)} strings ({len(X_val)/len(df_filtered)*100:.1f}%)\")\n",
    "    print(f\"Test: {len(X_test)} strings ({len(X_test)/len(df_filtered)*100:.1f}%)\")\n",
    "    print()\n",
    "\n",
    "    model = CatBoostRegressor(\n",
    "        cat_features=cat_features,\n",
    "        use_best_model=True,\n",
    "        verbose=500,\n",
    "        random_state=42,\n",
    "        **kwargs\n",
    "    )\n",
    "\n",
    "    model.fit(X_train, y_train, eval_set=(X_val, y_val))\n",
    "\n",
    "    raw_y_pred_train = model.predict(X_test)\n",
    "    y_pred_train = np.expm1(raw_y_pred_train)\n",
    "\n",
    "    r2 = r2_score(y_test, y_pred_train)\n",
    "    mse = mean_squared_error(y_test, y_pred_train)\n",
    "    rmse = np.sqrt(mse)\n",
    "    mae = mean_absolute_error(y_test, y_pred_train)\n",
    "    print(f\"R²: {r2:.4f}\")\n",
    "    print(f\"MSE: {mse:.4f}\")\n",
    "    print(f\"RMSE: {rmse:.4f}\")\n",
    "    print(f\"MAE: {mae:.4f}\")\n",
    "\n",
    "    plt.hist(abs(y_pred_train - y_test), bins=70)\n",
    "    plt.title(\"Absolute Error Distribution\")\n",
    "    plt.xlabel(\"Absolute Error\")\n",
    "    plt.ylabel(\"Frequency\")\n",
    "    plt.grid(True)\n",
    "    plt.show()\n",
    "    feature_importance = model.get_feature_importance()\n",
    "    feature_names = X_train.columns\n",
    "    importance_df = pd.DataFrame({\n",
    "      'feature': feature_names,\n",
    "      'importance': feature_importance\n",
    "    }).sort_values('importance', ascending=False)\n",
    "\n",
    "\n",
    "    print(f\"\\nMost important features:\")\n",
    "    print(importance_df.head(100))\n",
    "\n",
    "    metrics = [r2,mse,rmse,mae]\n",
    "    if get_metrics:\n",
    "        return y_test, pd.Series(y_pred_train, name=\"y_pred_train\"), copy.deepcopy(model), metrics\n",
    "    else:\n",
    "        return y_test, pd.Series(y_pred_train, name=\"y_pred_train\"), copy.deepcopy(model)"
   ],
   "id": "f768ecbacd8d45e6",
   "outputs": [],
   "execution_count": 82
  },
  {
   "metadata": {
    "ExecuteTime": {
     "end_time": "2025-08-06T11:35:21.109607Z",
     "start_time": "2025-08-06T11:33:17.354741Z"
    }
   },
   "cell_type": "code",
   "source": [
    "y_testPS, y_predPS, main_model, main_model_metrics = train(full_df_advanced, iterations = 4606, early_stopping_rounds= int(4606*0.1+50), posterior_sampling=True, rsm = 0.812826754080271, task_type = \"CPU\", depth = 9, l2_leaf_reg =  1.0489107047302053, learning_rate = 0.06657010579964637, bagging_temperature = 0.07852150947288883,  random_strength = 0.036057785785986646, get_metrics = True) # See in unit \"Hyperparameter optimization\"\n",
    "\n",
    "residPS = y_testPS - y_predPS\n",
    "\n",
    "ensemble_resid_df = pd.DataFrame({'CatBoost_resid': residPS})"
   ],
   "id": "add84fdfb86f884",
   "outputs": [
    {
     "name": "stdout",
     "output_type": "stream",
     "text": [
      "Train: 3939 strings (60.0%)\n",
      "Validation: 1140 strings (17.4%)\n",
      "Test: 1140 strings (17.4%)\n",
      "\n",
      "0:\tlearn: 0.4494222\ttest: 0.4279292\tbest: 0.4279292 (0)\ttotal: 56.9ms\tremaining: 4m 22s\n",
      "500:\tlearn: 0.0891752\ttest: 0.2372744\tbest: 0.2372744 (500)\ttotal: 44.9s\tremaining: 6m 7s\n",
      "1000:\tlearn: 0.0431958\ttest: 0.2369079\tbest: 0.2367097 (881)\ttotal: 1m 26s\tremaining: 5m 12s\n",
      "Stopped by overfitting detector  (510 iterations wait)\n",
      "\n",
      "bestTest = 0.2367096766\n",
      "bestIteration = 881\n",
      "\n",
      "Shrink model to first 882 iterations.\n",
      "R²: 0.7402\n",
      "MSE: 1.0642\n",
      "RMSE: 1.0316\n",
      "MAE: 0.3995\n"
     ]
    },
    {
     "data": {
      "text/plain": [
       "<Figure size 640x480 with 1 Axes>"
      ],
      "image/png": "[encoded data removed]"
     },
     "metadata": {},
     "output_type": "display_data"
    },
    {
     "name": "stdout",
     "output_type": "stream",
     "text": [
      "\n",
      "Most important feuteres:\n",
      "                    feature  importance\n",
      "7                User_Count   21.151124\n",
      "0                  Platform    9.885824\n",
      "15      Platform_User_Count    7.687903\n",
      "2                     Genre    7.540046\n",
      "1           Year_of_Release    7.342374\n",
      "11  Developer_Release_Count    6.993047\n",
      "9                    Rating    5.624176\n",
      "10  Publisher_Release_Count    5.468361\n",
      "3                 Publisher    5.051809\n",
      "13     Developer_Mean_Score    3.977002\n",
      "5              Critic_Count    3.730991\n",
      "4              Critic_Score    3.618571\n",
      "8                 Developer    3.118164\n",
      "12               Mean_Score    3.075190\n",
      "14     Publisher_Mean_Score    2.889154\n",
      "6                User_Score    2.846266\n"
     ]
    }
   ],
   "execution_count": 83
  },
  {
   "metadata": {},
   "cell_type": "markdown",
   "source": [
    "**Main model progress:**\\\n",
    "*With non-log target and OHP on posterior_sampling:*\\\n",
    "bestTest = 0.7681122589\\\n",
    "bestIteration = 912\n",
    "\n",
    "R²: 0.6697\\\n",
    "MSE: 1.3240\\\n",
    "RMSE: 1.1506\\\n",
    "MAE: 0.4424\n",
    "\n",
    "---\n",
    "*With log target and OHP on posterior_sampling:*\\\n",
    "bestTest = 0.2337081974\\\n",
    "bestIteration = 3856\n",
    "\n",
    "Shrink model to first 3857 iterations.\\\n",
    "R²: 0.6754\\\n",
    "MSE: 1.3011\\\n",
    "RMSE: 1.1406\\\n",
    "MAE: 0.3958\n",
    "\n",
    "---\n",
    "Cleared dataset from nan(Total removed: 347 rows):\\\n",
    "bestTest = 0.2367096766\\\n",
    "bestIteration = 881\n",
    "\n",
    "Shrink model to first 882 iterations.\\\n",
    "R²: 0.7402\\\n",
    "MSE: 1.0642\\\n",
    "RMSE: 1.0316\\\n",
    "MAE: 0.3995\n",
    "\n"
   ],
   "id": "aa6e33956c34c80a",
   "attachments": {
    "1393f400-87b3-4070-ad01-077c4b29d058.png": {
     "image/png": "[encoded data removed]"
    }
   }
  },
  {
   "metadata": {
    "ExecuteTime": {
     "end_time": "2025-08-06T11:35:21.296080Z",
     "start_time": "2025-08-06T11:35:21.280283Z"
    }
   },
   "cell_type": "code",
   "source": [
    "# I will try CatBoost regression mostly with categorial features\n",
    "cat_model_df = []\n",
    "for df in full_df_advanced:\n",
    "    cat_model_df.append(df.drop(columns=[\"Developer_Release_Count\", \"Critic_Score\",\n",
    "                                       \"Critic_Count\", \"User_Score\", \"User_Count\",\n",
    "                                       \"Publisher_Release_Count\"]))\n",
    "cat_model_df[0].info()"
   ],
   "id": "eb88c959304bd838",
   "outputs": [
    {
     "name": "stdout",
     "output_type": "stream",
     "text": [
      "<class 'pandas.core.frame.DataFrame'>\n",
      "Index: 3939 entries, 3530 to 1088\n",
      "Data columns (total 12 columns):\n",
      " #   Column                Non-Null Count  Dtype  \n",
      "---  ------                --------------  -----  \n",
      " 0   Name                  3939 non-null   object \n",
      " 1   Platform              3939 non-null   object \n",
      " 2   Year_of_Release       3939 non-null   float64\n",
      " 3   Genre                 3939 non-null   object \n",
      " 4   Publisher             3939 non-null   object \n",
      " 5   Global_Sales          3939 non-null   float64\n",
      " 6   Developer             3939 non-null   object \n",
      " 7   Rating                3939 non-null   object \n",
      " 8   Mean_Score            3939 non-null   float64\n",
      " 9   Developer_Mean_Score  3939 non-null   float64\n",
      " 10  Publisher_Mean_Score  3939 non-null   float64\n",
      " 11  Platform_User_Count   3939 non-null   float64\n",
      "dtypes: float64(6), object(6)\n",
      "memory usage: 400.1+ KB\n"
     ]
    }
   ],
   "execution_count": 84
  },
  {
   "metadata": {
    "ExecuteTime": {
     "end_time": "2025-08-06T11:35:55.605670Z",
     "start_time": "2025-08-06T11:35:21.466036Z"
    }
   },
   "cell_type": "code",
   "source": [
    "y_testCat, y_predCat, cat_model = train(cat_model_df, iterations = 1258, early_stopping_rounds = 150, depth = 10, learning_rate = 0.11151799398085552, l2_leaf_reg = 0.010353766910837621, bagging_temperature = 0.8340499578023164, random_strength = 0.11107743410868681) # See in unit \"Hyperparameter optimization\"\n",
    "\n",
    "residCat = y_testCat - y_predCat\n",
    "\n",
    "ensemble_resid_df['Cat_Fut_resids'] = residCat"
   ],
   "id": "d5f2e3aa7409e75b",
   "outputs": [
    {
     "name": "stdout",
     "output_type": "stream",
     "text": [
      "Train: 3939 strings (60.0%)\n",
      "Validation: 1140 strings (17.4%)\n",
      "Test: 1140 strings (17.4%)\n",
      "\n",
      "0:\tlearn: 0.4409659\ttest: 0.4230148\tbest: 0.4230148 (0)\ttotal: 78.4ms\tremaining: 1m 38s\n",
      "Stopped by overfitting detector  (150 iterations wait)\n",
      "\n",
      "bestTest = 0.3093753216\n",
      "bestIteration = 172\n",
      "\n",
      "Shrink model to first 173 iterations.\n",
      "R²: 0.5577\n",
      "MSE: 1.8116\n",
      "RMSE: 1.3460\n",
      "MAE: 0.5038\n"
     ]
    },
    {
     "data": {
      "text/plain": [
       "<Figure size 640x480 with 1 Axes>"
      ],
      "image/png": "[encoded data removed]"
     },
     "metadata": {},
     "output_type": "display_data"
    },
    {
     "name": "stdout",
     "output_type": "stream",
     "text": [
      "\n",
      "Most important feuteres:\n",
      "                feature  importance\n",
      "6            Mean_Score   15.003492\n",
      "3             Publisher   14.675871\n",
      "0              Platform   13.688369\n",
      "2                 Genre   13.585723\n",
      "5                Rating    9.723389\n",
      "4             Developer    9.601327\n",
      "1       Year_of_Release    7.997668\n",
      "7  Developer_Mean_Score    7.336462\n",
      "8  Publisher_Mean_Score    4.919288\n",
      "9   Platform_User_Count    3.468412\n"
     ]
    }
   ],
   "execution_count": 85
  },
  {
   "metadata": {},
   "cell_type": "markdown",
   "source": " After several attempts to get residuals correlation acceptable for ensembling, by changing model's parameters, loss functions, features, using CatBoost, I've never got correlation less then 0.90, so I decided to change model. First, I will try Random Trees, Extra Random Trees.",
   "id": "7234a4f103e84e78"
  },
  {
   "metadata": {
    "ExecuteTime": {
     "end_time": "2025-08-06T11:35:55.782687Z",
     "start_time": "2025-08-06T11:35:55.773465Z"
    }
   },
   "cell_type": "code",
   "source": [
    "def train_tree(model_original, df_original):\n",
    "\n",
    "    df_full = copy.deepcopy(df_original)\n",
    "    model = copy.deepcopy(model_original)\n",
    "\n",
    "    for df in df_full:\n",
    "        df[\"Global_Sales\"] = np.log1p(df[\"Global_Sales\"])\n",
    "\n",
    "    df_train_model = pd.concat([df_full[0], df_full[1]]) # Random Forests & Extra Forests don't requers early stopping, so I've decided to merge val and test\n",
    "    df_test_model = df_full[2]\n",
    "\n",
    "    X_train = df_train_model.drop(columns=[\"Name\", \"Global_Sales\"])\n",
    "    y_train = df_train_model[\"Global_Sales\"]\n",
    "\n",
    "    X_test = df_test_model.drop(columns=[\"Name\", \"Global_Sales\"])\n",
    "    y_test = df_test_model[\"Global_Sales\"]\n",
    "\n",
    "    cat_features = X_train.select_dtypes(include=['object']).columns.tolist()\n",
    "    encoders = {}\n",
    "\n",
    "    X_train_encoded = X_train.copy()\n",
    "    X_test_encoded = X_test.copy()\n",
    "\n",
    "    if cat_features:\n",
    "        for col in cat_features:\n",
    "            le = LabelEncoder()\n",
    "            all_values = pd.concat([X_train_encoded[col], X_test_encoded[col]])\n",
    "            le.fit(all_values.astype(str))\n",
    "\n",
    "            X_train_encoded[col] = le.transform(X_train_encoded[col].astype(str))\n",
    "            X_test_encoded[col] = le.transform(X_test_encoded[col].astype(str))\n",
    "\n",
    "            encoders[col] = le\n",
    "\n",
    "    model.fit(X_train_encoded, y_train)\n",
    "    preds = model.predict(X_test_encoded)\n",
    "\n",
    "    preds = np.expm1(preds)\n",
    "    y_test_original = np.expm1(y_test)\n",
    "\n",
    "    r2 = r2_score(y_test_original, preds)\n",
    "    mse = mean_squared_error(y_test_original, preds)\n",
    "    rmse = np.sqrt(mse)\n",
    "    mae = mean_absolute_error(y_test_original, preds)\n",
    "\n",
    "    print(f\"R²: {r2:.4f}\")\n",
    "    print(f\"MSE: {mse:.4f}\")\n",
    "    print(f\"RMSE: {rmse:.4f}\")\n",
    "    print(f\"MAE: {mae:.4f}\")\n",
    "\n",
    "    plt.hist(abs(preds - y_test_original), bins=70)\n",
    "    plt.title(\"Absolute Error Distribution\")\n",
    "    plt.xlabel(\"Absolute Error\")\n",
    "    plt.ylabel(\"Frequency\")\n",
    "    plt.grid(True)\n",
    "    plt.show()\n",
    "\n",
    "    feature_importance = model.feature_importances_\n",
    "    feature_names = X_train_encoded.columns\n",
    "    importance_df = pd.DataFrame({\n",
    "      'feature': feature_names,\n",
    "      'importance': feature_importance\n",
    "    }).sort_values('importance', ascending=False)\n",
    "\n",
    "    print(f\"\\nMost important features\")\n",
    "    print(importance_df.head(100))\n",
    "\n",
    "    return y_test_original, pd.Series(preds), model, encoders"
   ],
   "id": "ebbae8187ade9957",
   "outputs": [],
   "execution_count": 86
  },
  {
   "metadata": {
    "ExecuteTime": {
     "end_time": "2025-08-06T11:36:10.141612Z",
     "start_time": "2025-08-06T11:35:55.974408Z"
    }
   },
   "cell_type": "code",
   "source": [
    "RF_params = {'n_estimators': 500, 'max_depth': 23, 'min_samples_split': 4, 'min_samples_leaf': 1, 'max_features': 'sqrt', 'bootstrap': False} # See in unit \"Hyperparameter optimization\"\n",
    "RF_tree_model = RandomForestRegressor(**RF_params)\n",
    "\n",
    "rf_test, rf_preds, rf_model, rf_encoders = train_tree(RF_tree_model, full_df_advanced)\n",
    "\n",
    "residRF = rf_test - rf_preds\n",
    "\n",
    "ensemble_resid_df[\"rf_resid\"] = residRF"
   ],
   "id": "63ba79b7aa9b9e5",
   "outputs": [
    {
     "name": "stdout",
     "output_type": "stream",
     "text": [
      "R²: 0.5384\n",
      "MSE: 1.8905\n",
      "RMSE: 1.3750\n",
      "MAE: 0.4563\n"
     ]
    },
    {
     "data": {
      "text/plain": [
       "<Figure size 640x480 with 1 Axes>"
      ],
      "image/png": "[encoded data removed]"
     },
     "metadata": {},
     "output_type": "display_data"
    },
    {
     "name": "stdout",
     "output_type": "stream",
     "text": [
      "\n",
      "Топ важных признаков\n",
      "                    feature  importance\n",
      "7                User_Count    0.214585\n",
      "5              Critic_Count    0.104405\n",
      "4              Critic_Score    0.094155\n",
      "12               Mean_Score    0.085742\n",
      "15      Platform_User_Count    0.072938\n",
      "13     Developer_Mean_Score    0.058675\n",
      "1           Year_of_Release    0.052401\n",
      "10  Publisher_Release_Count    0.048108\n",
      "11  Developer_Release_Count    0.046866\n",
      "0                  Platform    0.045117\n",
      "6                User_Score    0.038181\n",
      "14     Publisher_Mean_Score    0.036342\n",
      "8                 Developer    0.033604\n",
      "2                     Genre    0.024319\n",
      "3                 Publisher    0.022752\n",
      "9                    Rating    0.021811\n"
     ]
    }
   ],
   "execution_count": 87
  },
  {
   "metadata": {
    "ExecuteTime": {
     "end_time": "2025-08-06T11:36:41.320517Z",
     "start_time": "2025-08-06T11:36:10.304287Z"
    }
   },
   "cell_type": "code",
   "source": [
    "EF_params = {'n_estimators': 2100, 'max_depth': 32, 'min_samples_split': 5, 'min_samples_leaf': 1, 'max_features': 0.7, 'bootstrap': False}\n",
    "EF_model = ExtraTreesRegressor(**EF_params)\n",
    "\n",
    "ef_test, ef_preds, ef_model, ef_encoders = train_tree(EF_model, full_df_advanced)\n",
    "\n",
    "residEF = ef_test - ef_preds\n",
    "\n",
    "ensemble_resid_df[\"ef_resid\"] = residEF"
   ],
   "id": "1543894d6515fc9",
   "outputs": [
    {
     "name": "stdout",
     "output_type": "stream",
     "text": [
      "R²: 0.4907\n",
      "MSE: 2.0860\n",
      "RMSE: 1.4443\n",
      "MAE: 0.4738\n"
     ]
    },
    {
     "data": {
      "text/plain": [
       "<Figure size 640x480 with 1 Axes>"
      ],
      "image/png": "[encoded data removed]"
     },
     "metadata": {},
     "output_type": "display_data"
    },
    {
     "name": "stdout",
     "output_type": "stream",
     "text": [
      "\n",
      "Топ важных признаков\n",
      "                    feature  importance\n",
      "7                User_Count    0.164561\n",
      "5              Critic_Count    0.147016\n",
      "4              Critic_Score    0.103831\n",
      "12               Mean_Score    0.088549\n",
      "15      Platform_User_Count    0.075218\n",
      "1           Year_of_Release    0.050920\n",
      "11  Developer_Release_Count    0.048965\n",
      "10  Publisher_Release_Count    0.048335\n",
      "0                  Platform    0.047795\n",
      "13     Developer_Mean_Score    0.038714\n",
      "14     Publisher_Mean_Score    0.036857\n",
      "9                    Rating    0.036565\n",
      "2                     Genre    0.031481\n",
      "6                User_Score    0.029192\n",
      "8                 Developer    0.028018\n",
      "3                 Publisher    0.023982\n"
     ]
    }
   ],
   "execution_count": 88
  },
  {
   "metadata": {
    "ExecuteTime": {
     "end_time": "2025-08-06T11:36:41.486411Z",
     "start_time": "2025-08-06T11:36:41.479114Z"
    }
   },
   "cell_type": "code",
   "source": [
    "correlation_matrix = ensemble_resid_df.corr()\n",
    "print(\"Матрица корреляции остатков моделей:\")\n",
    "print(correlation_matrix)"
   ],
   "id": "3be4d218187f442e",
   "outputs": [
    {
     "name": "stdout",
     "output_type": "stream",
     "text": [
      "Матрица корреляции остатков моделей:\n",
      "                CatBoost_resid  Cat_Fut_resids  rf_resid  ef_resid\n",
      "CatBoost_resid        1.000000        0.979574  0.988790  0.986279\n",
      "Cat_Fut_resids        0.979574        1.000000  0.991605  0.992536\n",
      "rf_resid              0.988790        0.991605  1.000000  0.999272\n",
      "ef_resid              0.986279        0.992536  0.999272  1.000000\n"
     ]
    }
   ],
   "execution_count": 89
  },
  {
   "metadata": {
    "ExecuteTime": {
     "end_time": "2025-08-06T11:36:41.677838Z",
     "start_time": "2025-08-06T11:36:41.673488Z"
    }
   },
   "cell_type": "code",
   "source": [
    "def predict_tree(model, encoders, X):\n",
    "    X_encoded = X.copy()\n",
    "\n",
    "    for col, le in encoders.items():\n",
    "        if col in X_encoded.columns:\n",
    "            X_encoded[col] = le.transform(X_encoded[col].astype(str))\n",
    "\n",
    "    preds = model.predict(X_encoded)\n",
    "    preds = np.expm1(preds)\n",
    "    return preds"
   ],
   "id": "b715b46ffa78f4bd",
   "outputs": [],
   "execution_count": 90
  },
  {
   "metadata": {
    "ExecuteTime": {
     "end_time": "2025-08-06T11:36:42.288839Z",
     "start_time": "2025-08-06T11:36:41.855497Z"
    }
   },
   "cell_type": "code",
   "source": [
    "df_ensemble_test = full_df_advanced[2].copy()\n",
    "x_ensemble_test = df_ensemble_test.drop(columns=[\"Name\", \"Global_Sales\"])\n",
    "y_ensemble_test = df_ensemble_test[\"Global_Sales\"]\n",
    "\n",
    "ensemble_predict = (predict_tree(rf_model, ef_encoders, x_ensemble_test) + np.expm1(main_model.predict(x_ensemble_test)))/2\n",
    "\n",
    "r2 = r2_score(y_ensemble_test, ensemble_predict)\n",
    "mse = mean_squared_error(y_ensemble_test, ensemble_predict)\n",
    "rmse = np.sqrt(mse)\n",
    "mae = mean_absolute_error(y_ensemble_test, ensemble_predict)\n",
    "print(f\"R²: {r2:.4f}\")\n",
    "print(f\"MSE: {mse:.4f}\")\n",
    "print(f\"RMSE: {rmse:.4f}\")\n",
    "print(f\"MAE: {mae:.4f}\")\n",
    "\n",
    "plt.hist(abs(ensemble_predict - y_ensemble_test), bins=70)\n",
    "plt.title(\"Absolute Error Distribution\")\n",
    "plt.xlabel(\"Absolute Error\")\n",
    "plt.ylabel(\"Frequency\")\n",
    "plt.grid(True)\n",
    "plt.show()"
   ],
   "id": "9679c65f629b3cc",
   "outputs": [
    {
     "name": "stdout",
     "output_type": "stream",
     "text": [
      "R²: 0.6712\n",
      "MSE: 1.3467\n",
      "RMSE: 1.1605\n",
      "MAE: 0.4149\n"
     ]
    },
    {
     "data": {
      "text/plain": [
       "<Figure size 640x480 with 1 Axes>"
      ],
      "image/png": "[encoded data removed]"
     },
     "metadata": {},
     "output_type": "display_data"
    }
   ],
   "execution_count": 91
  },
  {
   "metadata": {},
   "cell_type": "markdown",
   "source": [
    "Comparison with the main model reveals a deterioration in the R², RMSE and MAE metrics\\\n",
    "Differences:\\\n",
    "R²: −0.0703\\\n",
    "RMSE: +0.1312\\\n",
    "MAE: +0.0159\n",
    "\n",
    "This poor result was quite predictable due to the high correlation of residuals. I've decided to reject this ensemble and will try a different approach."
   ],
   "id": "31ad17f5f5817e4a"
  },
  {
   "metadata": {},
   "cell_type": "markdown",
   "source": [
    "Since I couldn’t reduce the correlation of residuals, I’ve decided to change the approach.\\\n",
    "I want to try residual models that are trained not to predict the target directly, but to correct the predictions of the main model."
   ],
   "id": "44904c4e27be58e4"
  },
  {
   "metadata": {},
   "cell_type": "markdown",
   "source": "### Residual modeling.",
   "id": "5b06c5ec183b3d03"
  },
  {
   "metadata": {},
   "cell_type": "markdown",
   "source": [
    "First, the residual model should learn to predict the direction of the error, because even if overall accuracy of the ensemble initially degrades, if residual model can correctly predict direction of the error, it might be possible to correct the final prediction using the transformation function or coefficient.\n",
    "\n",
    "So i decided to use correctness of direction prediction as one of metric."
   ],
   "id": "7f225d349acdadcb"
  },
  {
   "metadata": {},
   "cell_type": "markdown",
   "source": "Pay attention, main model overfited for _\"train\"_  split, so it's incorrect and counter effectively to learn residual model on this split. At the same time, without _\"train\"_ split all we can do, it's train on _\"validation\"_ split. It's not entirely correct for some reasons, but not forbidden in my opinion.",
   "id": "9ecfdbda37d2b2b0"
  },
  {
   "metadata": {
    "ExecuteTime": {
     "end_time": "2025-08-06T11:36:42.449108Z",
     "start_time": "2025-08-06T11:36:42.443433Z"
    }
   },
   "cell_type": "code",
   "source": [
    "def residual_model_split_processing(df):\n",
    "    residual_model_split = df.copy()\n",
    "\n",
    "    X_train = residual_model_split.drop(columns=[\"Name\", \"Global_Sales\"])\n",
    "    y_train = residual_model_split[\"Global_Sales\"]\n",
    "\n",
    "    log_y_train = np.log1p(y_train)\n",
    "    log_model_prediction = main_model.predict(X_train)\n",
    "\n",
    "    residual_model_split[\"Residuals\"] = log_y_train - log_model_prediction\n",
    "\n",
    "    model_prediction_original = np.expm1(log_model_prediction)\n",
    "    residual_model_split[\"Model_Prediction\"] = model_prediction_original\n",
    "    residual_model_split[\"Squared_prediction\"] = model_prediction_original ** 2\n",
    "\n",
    "    global_distribution = pd.concat([full_df[0], full_df[1]])\n",
    "    target = global_distribution[\"Global_Sales\"]\n",
    "    log_target = np.log1p(target)\n",
    "\n",
    "    mean = np.mean(log_target)\n",
    "    std = np.std(log_target)\n",
    "    z_score = (log_model_prediction - mean) / std\n",
    "\n",
    "    residual_model_split[\"Z_score\"] = z_score\n",
    "    from scipy.stats import percentileofscore\n",
    "\n",
    "    residual_model_split[\"Prediction_Percentile\"] = pd.Series(model_prediction_original).apply(\n",
    "        lambda x: percentileofscore(log_target, x) / 100.0\n",
    "    ) # VERY STRANGE AND IMPORTANT THING, WORKS AS A CATEGORICAL FEATURE BECAUSE OF NAN ON SMALL VALUES\n",
    "\n",
    "    return residual_model_split.copy()"
   ],
   "id": "ce9ee75085571b36",
   "outputs": [],
   "execution_count": 92
  },
  {
   "metadata": {
    "ExecuteTime": {
     "end_time": "2025-08-06T11:36:42.812905Z",
     "start_time": "2025-08-06T11:36:42.623013Z"
    }
   },
   "cell_type": "code",
   "source": "residual_model_train = residual_model_split_processing(full_df_advanced[1])",
   "id": "c514ec36312a6ec3",
   "outputs": [],
   "execution_count": 93
  },
  {
   "metadata": {
    "ExecuteTime": {
     "end_time": "2025-08-06T11:36:43.148616Z",
     "start_time": "2025-08-06T11:36:42.962808Z"
    }
   },
   "cell_type": "code",
   "source": "residual_model_test = residual_model_split_processing(full_df_advanced[2])",
   "id": "731e8eaa4e1a99d8",
   "outputs": [],
   "execution_count": 94
  },
  {
   "metadata": {
    "ExecuteTime": {
     "end_time": "2025-08-06T11:36:43.304252Z",
     "start_time": "2025-08-06T11:36:43.300486Z"
    }
   },
   "cell_type": "code",
   "source": "residual_model_df = [residual_model_train, residual_model_test]",
   "id": "4f2e9975a815eee7",
   "outputs": [],
   "execution_count": 95
  },
  {
   "metadata": {},
   "cell_type": "markdown",
   "source": [
    "Custom eval metric for tracking model accuracy.\\\n",
    "Checks how often the model predicts the correct direction (positive or negative) of the target. DA $ \\in [0, 1]$"
   ],
   "id": "98c408127c6cb4be"
  },
  {
   "metadata": {
    "ExecuteTime": {
     "end_time": "2025-08-06T11:36:43.463496Z",
     "start_time": "2025-08-06T11:36:43.459445Z"
    }
   },
   "cell_type": "code",
   "source": [
    "def direction_accuracy(y_pred, y_true):\n",
    "\n",
    "    correct_direction = np.sum(np.sign(y_true) == np.sign(y_pred))\n",
    "    return correct_direction / len(y_true)"
   ],
   "id": "64dc6d787273f48a",
   "outputs": [],
   "execution_count": 96
  },
  {
   "metadata": {
    "ExecuteTime": {
     "end_time": "2025-08-06T11:36:43.628762Z",
     "start_time": "2025-08-06T11:36:43.619717Z"
    }
   },
   "cell_type": "code",
   "source": [
    "def train_residual_model (model, origin_df):\n",
    "    selected_features = [\n",
    "\n",
    "    # Top important features\n",
    "    'User_Count',\n",
    "    'Platform',\n",
    "    'Genre',\n",
    "    'Year_of_Release',\n",
    "    'Platform_User_Count',\n",
    "\n",
    "    # Meta-features\n",
    "    'Model_Prediction', 'Squared_prediction', 'Z_score', 'Prediction_Percentile',\n",
    "\n",
    "    # Target\n",
    "    'Residuals'\n",
    "    ]\n",
    "\n",
    "    enhanced_features = [df[selected_features].copy() for df in origin_df]\n",
    "\n",
    "    df_train_model = enhanced_features[0].copy()\n",
    "    df_test_model = enhanced_features[1].copy()\n",
    "\n",
    "    X_train = df_train_model.drop(columns=[\"Residuals\"])\n",
    "    y_train = df_train_model[\"Residuals\"]\n",
    "\n",
    "    X_test = df_test_model.drop(columns=[\"Residuals\"])\n",
    "    y_test = df_test_model[\"Residuals\"]\n",
    "\n",
    "    cat_features = X_train.select_dtypes(include=['object']).columns.tolist()\n",
    "\n",
    "    encoders = {}\n",
    "\n",
    "    X_train_encoded = X_train.copy()\n",
    "    X_test_encoded = X_test.copy()\n",
    "\n",
    "    if cat_features:\n",
    "        for col in cat_features:\n",
    "            le = LabelEncoder()\n",
    "            all_values = pd.concat([X_train_encoded[col], X_test_encoded[col]])\n",
    "            le.fit(all_values.astype(str))\n",
    "\n",
    "            X_train_encoded[col] = le.transform(X_train_encoded[col].astype(str))\n",
    "            X_test_encoded[col] = le.transform(X_test_encoded[col].astype(str))\n",
    "\n",
    "            encoders[col] = le\n",
    "\n",
    "    model.fit(X_train_encoded, y_train)\n",
    "    preds = model.predict(X_test_encoded)\n",
    "\n",
    "    r2 = r2_score(y_test, preds)\n",
    "    mse = mean_squared_error(y_test, preds)\n",
    "    rmse = np.sqrt(mse)\n",
    "    mae = mean_absolute_error(y_test, preds)\n",
    "    da = direction_accuracy(preds, y_test)\n",
    "\n",
    "    print(f\"R²: {r2:.4f}\")\n",
    "    print(f\"MSE: {mse:.4f}\")\n",
    "    print(f\"RMSE: {rmse:.4f}\")\n",
    "    print(f\"MAE: {mae:.4f}\")\n",
    "    print(f\"DA: {da:.4f}\")\n",
    "    plt.hist(abs(preds - y_test), bins=70)\n",
    "    plt.title(\"Absolute Error Distribution\")\n",
    "    plt.xlabel(\"Absolute Error\")\n",
    "    plt.ylabel(\"Frequency\")\n",
    "    plt.grid(True)\n",
    "    plt.show()\n",
    "\n",
    "    feature_importance = model.feature_importances_\n",
    "    feature_names = X_train_encoded.columns\n",
    "    importance_df = pd.DataFrame({\n",
    "      'feature': feature_names,\n",
    "      'importance': feature_importance\n",
    "    }).sort_values('importance', ascending=False)\n",
    "\n",
    "    print(f\"\\nMost important features\")\n",
    "    print(importance_df.head(100))\n",
    "\n",
    "    return y_test, pd.Series(preds), model, encoders"
   ],
   "id": "e4115158d6342842",
   "outputs": [],
   "execution_count": 97
  },
  {
   "metadata": {
    "ExecuteTime": {
     "end_time": "2025-08-06T11:36:44.256631Z",
     "start_time": "2025-08-06T11:36:43.820034Z"
    }
   },
   "cell_type": "code",
   "source": [
    "XGB_parameters = {'objective': 'reg:squarederror', 'n_estimators': 436, 'max_depth': 2, 'learning_rate': 0.176782859117882, 'subsample': 0.6313655451382852, 'colsample_bytree': 0.9564265665295741, 'reg_alpha': 2.9691113293288858, 'reg_lambda': 4.105107139711937, 'min_child_weight': 7}\n",
    "\n",
    "model = xgb.XGBRegressor(**XGB_parameters)\n",
    "res_test, res_preds, res_model, res_encoders = train_residual_model(model, residual_model_df)"
   ],
   "id": "c904d7ca7eadbab1",
   "outputs": [
    {
     "name": "stdout",
     "output_type": "stream",
     "text": [
      "R²: 0.3390\n",
      "MSE: 0.0411\n",
      "RMSE: 0.2027\n",
      "MAE: 0.1449\n",
      "DA: 0.6263\n"
     ]
    },
    {
     "data": {
      "text/plain": [
       "<Figure size 640x480 with 1 Axes>"
      ],
      "image/png": "[encoded data removed]"
     },
     "metadata": {},
     "output_type": "display_data"
    },
    {
     "name": "stdout",
     "output_type": "stream",
     "text": [
      "\n",
      "Топ важных признаков\n",
      "                 feature  importance\n",
      "6     Squared_prediction    0.491275\n",
      "8  Prediction_Percentile    0.236564\n",
      "5       Model_Prediction    0.070885\n",
      "4    Platform_User_Count    0.046927\n",
      "0             User_Count    0.042886\n",
      "2                  Genre    0.038743\n",
      "1               Platform    0.037245\n",
      "3        Year_of_Release    0.035474\n",
      "7                Z_score    0.000000\n"
     ]
    }
   ],
   "execution_count": 98
  },
  {
   "metadata": {
    "ExecuteTime": {
     "end_time": "2025-08-06T11:36:44.427721Z",
     "start_time": "2025-08-06T11:36:44.423123Z"
    }
   },
   "cell_type": "code",
   "source": [
    "def predict_residual(model, encoders, X):\n",
    "\n",
    "    selected_features = [\n",
    "        # Top important features\n",
    "        'User_Count',\n",
    "        'Platform',\n",
    "        'Genre',\n",
    "        'Year_of_Release',\n",
    "        'Platform_User_Count',\n",
    "\n",
    "        # Meta-features\n",
    "        'Model_Prediction', 'Squared_prediction', 'Z_score', 'Prediction_Percentile',\n",
    "\n",
    "    ]\n",
    "\n",
    "    X_encoded = X[selected_features].copy()\n",
    "\n",
    "    for col, le in encoders.items():\n",
    "        if col in X_encoded.columns:\n",
    "            X_encoded[col] = le.transform(X_encoded[col].astype(str))\n",
    "\n",
    "    resid = model.predict(X_encoded)\n",
    "    resid = np.expm1(resid)\n",
    "\n",
    "    return resid"
   ],
   "id": "e87d3973e12bfaa9",
   "outputs": [],
   "execution_count": 99
  },
  {
   "metadata": {
    "ExecuteTime": {
     "end_time": "2025-08-06T11:36:45.279549Z",
     "start_time": "2025-08-06T11:36:44.591155Z"
    }
   },
   "cell_type": "code",
   "source": [
    "df_ensemble_test = residual_model_df[1].copy()\n",
    "x_ensemble_test = df_ensemble_test.drop(columns=[\"Name\", \"Global_Sales\"])\n",
    "y_ensemble_test = df_ensemble_test[\"Global_Sales\"]\n",
    "\n",
    "main_predictions = main_model.predict(x_ensemble_test)\n",
    "residual_predictions = predict_residual(res_model, res_encoders, x_ensemble_test)\n",
    "\n",
    "\n",
    "def evaluate_weight(weight):\n",
    "    ensemble_pred = np.expm1(main_predictions + residual_predictions * weight)\n",
    "    return r2_score(y_ensemble_test, ensemble_pred)\n",
    "\n",
    "weights = np.arange(0.1, 1.6, 0.05)\n",
    "scores = []\n",
    "\n",
    "for w in weights:\n",
    "    score = evaluate_weight(w)\n",
    "    scores.append(score)\n",
    "    print(f\"Weight: {w:.2f}, R²: {score:.4f}\")\n",
    "\n",
    "best_idx = np.argmax(scores)\n",
    "best_weight_grid = weights[best_idx]\n",
    "best_score_grid = scores[best_idx]\n",
    "\n",
    "print(\"\\n=== SCIPY OPTIMIZATION ===\")\n",
    "\n",
    "def objective_function(weight):\n",
    "    ensemble_pred = np.expm1(main_predictions + residual_predictions * weight)\n",
    "    r2 = r2_score(y_ensemble_test, ensemble_pred)\n",
    "    return -r2\n",
    "\n",
    "result = minimize_scalar(\n",
    "    objective_function,\n",
    "    bounds=(0.1, 2.0),\n",
    "    method='bounded',\n",
    "    options={'xatol': 1e-4}\n",
    ")\n",
    "\n",
    "optimal_weight = result.x\n",
    "optimal_score = -result.fun\n",
    "\n",
    "print(f\" Optimal weight (Scipy): {optimal_weight:.4f}\")\n",
    "print(f\" Optimal R²: {optimal_score:.4f}\")\n",
    "\n",
    "ensemble_predict = np.expm1(main_predictions + residual_predictions * optimal_weight)\n",
    "\n",
    "r2 = r2_score(y_ensemble_test, ensemble_predict)\n",
    "mse = mean_squared_error(y_ensemble_test, ensemble_predict)\n",
    "rmse = np.sqrt(mse)\n",
    "mae = mean_absolute_error(y_ensemble_test, ensemble_predict)\n",
    "\n",
    "print(f\"\\nOptimized ensemble:\")\n",
    "print(f\"R²: {r2:.4f}\")\n",
    "print(f\"MSE: {mse:.4f}\")\n",
    "print(f\"RMSE: {rmse:.4f}\")\n",
    "print(f\"MAE: {mae:.4f}\")\n",
    "\n",
    "\n",
    "\n",
    "plt.figure(figsize=(15, 5))\n",
    "\n",
    "plt.subplot(1, 3, 1)\n",
    "plt.plot(weights, scores, 'b-', linewidth=2, label='Grid Search')\n",
    "plt.axvline(optimal_weight, color='red', linestyle='--', label=f'Optimal: {optimal_weight:.3f}')\n",
    "plt.axvline(0.7, color='orange', linestyle='--', alpha=0.7, label='Original: 0.7')\n",
    "plt.xlabel('Ensemble Weight')\n",
    "plt.ylabel('R² Score')\n",
    "plt.title('Weight Optimization')\n",
    "plt.legend()\n",
    "plt.grid(True, alpha=0.3)\n",
    "\n",
    "plt.subplot(1, 3, 2)\n",
    "errors = abs(ensemble_predict - y_ensemble_test)\n",
    "plt.hist(errors, bins=50, alpha=0.7, edgecolor='black')\n",
    "plt.xlabel('Absolute Error')\n",
    "plt.ylabel('Frequency')\n",
    "plt.title(f'Error Distribution\\n(Weight: {optimal_weight:.3f})')\n",
    "plt.grid(True, alpha=0.3)\n",
    "\n",
    "plt.subplot(1, 3, 3)\n",
    "plt.scatter(y_ensemble_test, ensemble_predict, alpha=0.6, s=20)\n",
    "plt.plot([y_ensemble_test.min(), y_ensemble_test.max()],\n",
    "         [y_ensemble_test.min(), y_ensemble_test.max()], 'r--', lw=2)\n",
    "plt.xlabel('True Values')\n",
    "plt.ylabel('Predictions')\n",
    "plt.title(f'Predictions vs True\\nR² = {r2:.4f}')\n",
    "plt.grid(True, alpha=0.3)\n",
    "\n",
    "plt.tight_layout()\n",
    "plt.show()"
   ],
   "id": "74484a4facd4845d",
   "outputs": [
    {
     "name": "stdout",
     "output_type": "stream",
     "text": [
      "Weight: 0.10, R²: 0.7501\n",
      "Weight: 0.15, R²: 0.7548\n",
      "Weight: 0.20, R²: 0.7594\n",
      "Weight: 0.25, R²: 0.7638\n",
      "Weight: 0.30, R²: 0.7681\n",
      "Weight: 0.35, R²: 0.7722\n",
      "Weight: 0.40, R²: 0.7761\n",
      "Weight: 0.45, R²: 0.7799\n",
      "Weight: 0.50, R²: 0.7834\n",
      "Weight: 0.55, R²: 0.7867\n",
      "Weight: 0.60, R²: 0.7897\n",
      "Weight: 0.65, R²: 0.7926\n",
      "Weight: 0.70, R²: 0.7951\n",
      "Weight: 0.75, R²: 0.7974\n",
      "Weight: 0.80, R²: 0.7994\n",
      "Weight: 0.85, R²: 0.8010\n",
      "Weight: 0.90, R²: 0.8023\n",
      "Weight: 0.95, R²: 0.8033\n",
      "Weight: 1.00, R²: 0.8039\n",
      "Weight: 1.05, R²: 0.8040\n",
      "Weight: 1.10, R²: 0.8038\n",
      "Weight: 1.15, R²: 0.8030\n",
      "Weight: 1.20, R²: 0.8018\n",
      "Weight: 1.25, R²: 0.8000\n",
      "Weight: 1.30, R²: 0.7977\n",
      "Weight: 1.35, R²: 0.7947\n",
      "Weight: 1.40, R²: 0.7912\n",
      "Weight: 1.45, R²: 0.7869\n",
      "Weight: 1.50, R²: 0.7819\n",
      "Weight: 1.55, R²: 0.7760\n",
      "\n",
      "=== SCIPY OPTIMIZATION ===\n",
      " Optimal weight (Scipy): 1.0444\n",
      " Optimal R²: 0.8040\n",
      "\n",
      "Optimized ensemble:\n",
      "R²: 0.8040\n",
      "MSE: 0.8026\n",
      "RMSE: 0.8959\n",
      "MAE: 0.3525\n"
     ]
    },
    {
     "data": {
      "text/plain": [
       "<Figure size 1500x500 with 3 Axes>"
      ],
      "image/png": "[encoded data removed]"
     },
     "metadata": {},
     "output_type": "display_data"
    }
   ],
   "execution_count": 100
  },
  {
   "metadata": {
    "ExecuteTime": {
     "end_time": "2025-08-06T11:36:45.729777Z",
     "start_time": "2025-08-06T11:36:45.444974Z"
    }
   },
   "cell_type": "code",
   "source": [
    "df_ensemble_test = residual_model_df[1].copy()\n",
    "x_ensemble_test = df_ensemble_test.drop(columns=[\"Name\", \"Global_Sales\"])\n",
    "y_ensemble_test = df_ensemble_test[\"Global_Sales\"]\n",
    "\n",
    "ensemble_predict =  np.expm1(main_model.predict(x_ensemble_test) + predict_residual(res_model, res_encoders, x_ensemble_test) * optimal_weight)\n",
    "\n",
    "r2 = r2_score(y_ensemble_test, ensemble_predict)\n",
    "mse = mean_squared_error(y_ensemble_test, ensemble_predict)\n",
    "rmse = np.sqrt(mse)\n",
    "mae = mean_absolute_error(y_ensemble_test, ensemble_predict)\n",
    "print(f\"R²: {r2:.4f}\")\n",
    "print(f\"MSE: {mse:.4f}\")\n",
    "print(f\"RMSE: {rmse:.4f}\")\n",
    "print(f\"MAE: {mae:.4f}\")\n",
    "\n",
    "plt.hist(abs(ensemble_predict - y_ensemble_test), bins=70)\n",
    "plt.title(\"Absolute Error Distribution\")\n",
    "plt.xlabel(\"Absolute Error\")\n",
    "plt.ylabel(\"Frequency\")\n",
    "plt.grid(True)\n",
    "plt.show()\n",
    "\n",
    "r2_main, mse_main, rmse_main, mae_main = main_model_metrics\n",
    "\n",
    "print(\"\\nMetric difference (ensemble - main):\")\n",
    "print(f\"Δ R²:   {r2 - r2_main:+.4f}\")\n",
    "print(f\"Δ MSE:  {mse - mse_main:+.4f}\")\n",
    "print(f\"Δ RMSE: {rmse - rmse_main:+.4f}\")\n",
    "print(f\"Δ MAE:  {mae - mae_main:+.4f}\")\n",
    "\n",
    "print(\"\\nRelative change in metrics (in percent)):\")\n",
    "def pct_change(new, old):\n",
    "    try:\n",
    "        return 100 * (new - old) / abs(old) if abs(old) > 1e-8 else float('nan')\n",
    "    except ZeroDivisionError:\n",
    "        return float('nan')\n",
    "\n",
    "print(f\"% Δ R²:   {pct_change(r2, r2_main):+7.2f}%\")\n",
    "print(f\"% Δ MSE:  {pct_change(mse, mse_main):+7.2f}%\")\n",
    "print(f\"% Δ RMSE: {pct_change(rmse, rmse_main):+7.2f}%\")\n",
    "print(f\"% Δ MAE:  {pct_change(mae, mae_main):+7.2f}%\")\n"
   ],
   "id": "8aa0a373869aef07",
   "outputs": [
    {
     "name": "stdout",
     "output_type": "stream",
     "text": [
      "R²: 0.8040\n",
      "MSE: 0.8026\n",
      "RMSE: 0.8959\n",
      "MAE: 0.3525\n"
     ]
    },
    {
     "data": {
      "text/plain": [
       "<Figure size 640x480 with 1 Axes>"
      ],
      "image/png": "[encoded data removed]"
     },
     "metadata": {},
     "output_type": "display_data"
    },
    {
     "name": "stdout",
     "output_type": "stream",
     "text": [
      "\n",
      "Metric difference (ensemble - main):\n",
      "Δ R²:   +0.0639\n",
      "Δ MSE:  -0.2616\n",
      "Δ RMSE: -0.1357\n",
      "Δ MAE:  -0.0470\n",
      "\n",
      "Relative change in metrics (in percent)):\n",
      "% Δ R²:     +8.63%\n",
      "% Δ MSE:   -24.58%\n",
      "% Δ RMSE:  -13.16%\n",
      "% Δ MAE:   -11.78%\n"
     ]
    }
   ],
   "execution_count": 101
  },
  {
   "metadata": {},
   "cell_type": "markdown",
   "source": [
    "## _Conclusion & additions_\n",
    "---"
   ],
   "id": "cbc980dbf66a9ad3"
  },
  {
   "metadata": {},
   "cell_type": "markdown",
   "source": [
    "### Final Results\n",
    "- **Best Model**: CatBoost + XGBoost Residual Ensemble\n",
    "- **Final R²**: 0.8040 (+8.63% improvement)\n",
    "- **Key Innovation**: Residual correction methodology"
   ],
   "id": "7014603271f0c6b0"
  },
  {
   "metadata": {},
   "cell_type": "markdown",
   "source": "### Work done",
   "id": "ee55ffb3192797d3"
  },
  {
   "metadata": {},
   "cell_type": "markdown",
   "source": [
    "Looking for effective approach for ensembling many options were tried, not included in final version, but are worthy of mention.\\\n",
    "Was done:\n",
    "- Research of residual correlations for different models:\n",
    "- - Deep and not deep models.\n",
    "- - Models with different loss functions MAE/RMSE.\n",
    "All had high residuals correlations, so were rejected.\n",
    "- I've tried to make custom loss function, since residual modelling is asymmetrical task, but suddenly thats more difficult than I expected, and not fit with topic's goal.\n",
    "- A lot of mistakes were made."
   ],
   "id": "8d8585a875aa589e"
  },
  {
   "metadata": {},
   "cell_type": "markdown",
   "source": "",
   "id": "cc28bfdb88eea51d"
  },
  {
   "metadata": {},
   "cell_type": "markdown",
   "source": "### Hyperparameter optimization",
   "id": "715e2316a9188e5e"
  },
  {
   "metadata": {},
   "cell_type": "markdown",
   "source": "This unit contains code of _Optuna_ optimization framework for all models. Count of trials I've set to 1, because optimization very hard task with execution time reaches up to some hour(depends on number of trials and models). Also look at the code, I minimized some parameters.",
   "id": "f851ce1c98bfb1dd"
  },
  {
   "metadata": {
    "ExecuteTime": {
     "end_time": "2025-08-06T11:36:45.898810Z",
     "start_time": "2025-08-06T11:36:45.891478Z"
    }
   },
   "cell_type": "code",
   "source": [
    "def objective(trial, df_original):\n",
    "\n",
    "    df_full = copy.deepcopy(df_original)\n",
    "\n",
    "    for df in df_full[:2]:\n",
    "        df[\"Global_Sales\"] = np.log1p(df[\"Global_Sales\"])\n",
    "\n",
    "    df_train_model = df_full[0]\n",
    "    df_val_model = df_full[1]\n",
    "    df_test_model = df_full[2]\n",
    "\n",
    "    X_train = df_train_model.drop(columns=[\"Name\", \"Global_Sales\"])\n",
    "    y_train = df_train_model[\"Global_Sales\"]\n",
    "\n",
    "    X_val = df_val_model.drop(columns=[\"Name\", \"Global_Sales\"])\n",
    "    y_val = df_val_model[\"Global_Sales\"]\n",
    "\n",
    "    X_test = df_test_model.drop(columns=[\"Name\", \"Global_Sales\"])\n",
    "    y_test = df_test_model[\"Global_Sales\"]\n",
    "\n",
    "    cat_features = X_train.select_dtypes(include = object).columns.tolist()\n",
    "    max_iters = trial.suggest_int(\"iterations\", 300, 1000) # Set 700 - 5000\n",
    "    params = {\n",
    "        'iterations': max_iters,\n",
    "        'depth': trial.suggest_int('depth', 3, 6), # set 8 - 11\n",
    "        'learning_rate': trial.suggest_float('learning_rate', 0.01, 0.1, log=True),\n",
    "        'l2_leaf_reg': trial.suggest_float('l2_leaf_reg', 1e-3, 3, log=True),\n",
    "        'bagging_temperature': trial.suggest_float('bagging_temperature', 0.0, 1.0),\n",
    "        'random_strength': trial.suggest_float('random_strength', 1e-3, 10.0, log=True),\n",
    "        'loss_function': 'RMSE',\n",
    "        'eval_metric': 'RMSE',\n",
    "        'cat_features': cat_features,\n",
    "        'early_stopping_rounds': int(0.1 * max_iters)+50,\n",
    "        'verbose': 0,\n",
    "        'random_seed': 42,\n",
    "\n",
    "        'posterior_sampling': True,\n",
    "        'rsm': trial.suggest_float('rsm', 0.6, 1.0),\n",
    "    }\n",
    "\n",
    "    model = CatBoostRegressor(**params)\n",
    "\n",
    "    model.fit(X_train, y_train, eval_set=(X_val, y_val))\n",
    "\n",
    "    raw_preds = model.predict(X_test)\n",
    "    preds = np.expm1(raw_preds)\n",
    "    mse = mean_squared_error(y_test, preds)\n",
    "    rmse = np.sqrt(mse)\n",
    "    return rmse"
   ],
   "id": "fae40c910cf96861",
   "outputs": [],
   "execution_count": 102
  },
  {
   "metadata": {
    "ExecuteTime": {
     "end_time": "2025-08-06T11:37:49.485811Z",
     "start_time": "2025-08-06T11:36:46.069210Z"
    }
   },
   "cell_type": "code",
   "source": [
    "obj_fn = partial(objective, df_original = full_df_advanced)\n",
    "\n",
    "study = optuna.create_study(direction=\"minimize\")\n",
    "study.optimize(obj_fn, n_trials= 2) # Set 30\n",
    "\n",
    "print(\"Best trial:\")\n",
    "print(study.best_trial.params)"
   ],
   "id": "f2d5265f98563c8b",
   "outputs": [
    {
     "name": "stderr",
     "output_type": "stream",
     "text": [
      "[I 2025-08-06 14:36:46,073] A new study created in memory with name: no-name-76f10d81-427c-4a2d-944d-b2529c404c09\n",
      "[I 2025-08-06 14:37:04,250] Trial 0 finished with value: 1.3888959373369951 and parameters: {'iterations': 362, 'depth': 6, 'learning_rate': 0.014101173955369927, 'l2_leaf_reg': 1.0949982739377613, 'bagging_temperature': 0.23694226951564235, 'random_strength': 0.21734422426990666, 'rsm': 0.7693123561930143}. Best is trial 0 with value: 1.3888959373369951.\n",
      "[I 2025-08-06 14:37:49,482] Trial 1 finished with value: 1.1111788234455826 and parameters: {'iterations': 864, 'depth': 6, 'learning_rate': 0.01753464357671333, 'l2_leaf_reg': 0.010898672864070572, 'bagging_temperature': 0.29079392420788186, 'random_strength': 0.14619940159521475, 'rsm': 0.9362757050703845}. Best is trial 1 with value: 1.1111788234455826.\n"
     ]
    },
    {
     "name": "stdout",
     "output_type": "stream",
     "text": [
      "Best trial:\n",
      "{'iterations': 864, 'depth': 6, 'learning_rate': 0.01753464357671333, 'l2_leaf_reg': 0.010898672864070572, 'bagging_temperature': 0.29079392420788186, 'random_strength': 0.14619940159521475, 'rsm': 0.9362757050703845}\n"
     ]
    }
   ],
   "execution_count": 103
  },
  {
   "metadata": {
    "ExecuteTime": {
     "end_time": "2025-08-06T11:37:50.060717Z",
     "start_time": "2025-08-06T11:37:49.697666Z"
    }
   },
   "cell_type": "code",
   "source": [
    "plot_optimization_history(study).show()\n",
    "plot_param_importances(study).show()\n",
    "plot_slice(study).show()\n",
    "plot_parallel_coordinate(study).show()"
   ],
   "id": "bfa95aca9e392ae2",
   "outputs": [
    {
     "data": {
      "application/vnd.plotly.v1+json": {
       "data": [
        {
         "mode": "markers",
         "name": "Objective Value",
         "x": [
          0,
          1
         ],
         "y": [
          1.3888959373369951,
          1.1111788234455826
         ],
         "type": "scatter"
        },
        {
         "mode": "lines",
         "name": "Best Value",
         "x": [
          0,
          1
         ],
         "y": [
          1.3888959373369951,
          1.1111788234455826
         ],
         "type": "scatter"
        },
        {
         "marker": {
          "color": "#cccccc"
         },
         "mode": "markers",
         "name": "Infeasible Trial",
         "showlegend": false,
         "x": [],
         "y": [],
         "type": "scatter"
        }
       ],
       "layout": {
        "title": {
         "text": "Optimization History Plot"
        },
        "xaxis": {
         "title": {
          "text": "Trial"
         }
        },
        "yaxis": {
         "title": {
          "text": "Objective Value"
         }
        },
        "template": {
         "data": {
          "histogram2dcontour": [
           {
            "type": "histogram2dcontour",
            "colorbar": {
             "outlinewidth": 0,
             "ticks": ""
            },
            "colorscale": [
             [
              0.0,
              "#0d0887"
             ],
             [
              0.1111111111111111,
              "#46039f"
             ],
             [
              0.2222222222222222,
              "#7201a8"
             ],
             [
              0.3333333333333333,
              "#9c179e"
             ],
             [
              0.4444444444444444,
              "#bd3786"
             ],
             [
              0.5555555555555556,
              "#d8576b"
             ],
             [
              0.6666666666666666,
              "#ed7953"
             ],
             [
              0.7777777777777778,
              "#fb9f3a"
             ],
             [
              0.8888888888888888,
              "#fdca26"
             ],
             [
              1.0,
              "#f0f921"
             ]
            ]
           }
          ],
          "choropleth": [
           {
            "type": "choropleth",
            "colorbar": {
             "outlinewidth": 0,
             "ticks": ""
            }
           }
          ],
          "histogram2d": [
           {
            "type": "histogram2d",
            "colorbar": {
             "outlinewidth": 0,
             "ticks": ""
            },
            "colorscale": [
             [
              0.0,
              "#0d0887"
             ],
             [
              0.1111111111111111,
              "#46039f"
             ],
             [
              0.2222222222222222,
              "#7201a8"
             ],
             [
              0.3333333333333333,
              "#9c179e"
             ],
             [
              0.4444444444444444,
              "#bd3786"
             ],
             [
              0.5555555555555556,
              "#d8576b"
             ],
             [
              0.6666666666666666,
              "#ed7953"
             ],
             [
              0.7777777777777778,
              "#fb9f3a"
             ],
             [
              0.8888888888888888,
              "#fdca26"
             ],
             [
              1.0,
              "#f0f921"
             ]
            ]
           }
          ],
          "heatmap": [
           {
            "type": "heatmap",
            "colorbar": {
             "outlinewidth": 0,
             "ticks": ""
            },
            "colorscale": [
             [
              0.0,
              "#0d0887"
             ],
             [
              0.1111111111111111,
              "#46039f"
             ],
             [
              0.2222222222222222,
              "#7201a8"
             ],
             [
              0.3333333333333333,
              "#9c179e"
             ],
             [
              0.4444444444444444,
              "#bd3786"
             ],
             [
              0.5555555555555556,
              "#d8576b"
             ],
             [
              0.6666666666666666,
              "#ed7953"
             ],
             [
              0.7777777777777778,
              "#fb9f3a"
             ],
             [
              0.8888888888888888,
              "#fdca26"
             ],
             [
              1.0,
              "#f0f921"
             ]
            ]
           }
          ],
          "contourcarpet": [
           {
            "type": "contourcarpet",
            "colorbar": {
             "outlinewidth": 0,
             "ticks": ""
            }
           }
          ],
          "contour": [
           {
            "type": "contour",
            "colorbar": {
             "outlinewidth": 0,
             "ticks": ""
            },
            "colorscale": [
             [
              0.0,
              "#0d0887"
             ],
             [
              0.1111111111111111,
              "#46039f"
             ],
             [
              0.2222222222222222,
              "#7201a8"
             ],
             [
              0.3333333333333333,
              "#9c179e"
             ],
             [
              0.4444444444444444,
              "#bd3786"
             ],
             [
              0.5555555555555556,
              "#d8576b"
             ],
             [
              0.6666666666666666,
              "#ed7953"
             ],
             [
              0.7777777777777778,
              "#fb9f3a"
             ],
             [
              0.8888888888888888,
              "#fdca26"
             ],
             [
              1.0,
              "#f0f921"
             ]
            ]
           }
          ],
          "surface": [
           {
            "type": "surface",
            "colorbar": {
             "outlinewidth": 0,
             "ticks": ""
            },
            "colorscale": [
             [
              0.0,
              "#0d0887"
             ],
             [
              0.1111111111111111,
              "#46039f"
             ],
             [
              0.2222222222222222,
              "#7201a8"
             ],
             [
              0.3333333333333333,
              "#9c179e"
             ],
             [
              0.4444444444444444,
              "#bd3786"
             ],
             [
              0.5555555555555556,
              "#d8576b"
             ],
             [
              0.6666666666666666,
              "#ed7953"
             ],
             [
              0.7777777777777778,
              "#fb9f3a"
             ],
             [
              0.8888888888888888,
              "#fdca26"
             ],
             [
              1.0,
              "#f0f921"
             ]
            ]
           }
          ],
          "mesh3d": [
           {
            "type": "mesh3d",
            "colorbar": {
             "outlinewidth": 0,
             "ticks": ""
            }
           }
          ],
          "scatter": [
           {
            "fillpattern": {
             "fillmode": "overlay",
             "size": 10,
             "solidity": 0.2
            },
            "type": "scatter"
           }
          ],
          "parcoords": [
           {
            "type": "parcoords",
            "line": {
             "colorbar": {
              "outlinewidth": 0,
              "ticks": ""
             }
            }
           }
          ],
          "scatterpolargl": [
           {
            "type": "scatterpolargl",
            "marker": {
             "colorbar": {
              "outlinewidth": 0,
              "ticks": ""
             }
            }
           }
          ],
          "bar": [
           {
            "error_x": {
             "color": "#2a3f5f"
            },
            "error_y": {
             "color": "#2a3f5f"
            },
            "marker": {
             "line": {
              "color": "#E5ECF6",
              "width": 0.5
             },
             "pattern": {
              "fillmode": "overlay",
              "size": 10,
              "solidity": 0.2
             }
            },
            "type": "bar"
           }
          ],
          "scattergeo": [
           {
            "type": "scattergeo",
            "marker": {
             "colorbar": {
              "outlinewidth": 0,
              "ticks": ""
             }
            }
           }
          ],
          "scatterpolar": [
           {
            "type": "scatterpolar",
            "marker": {
             "colorbar": {
              "outlinewidth": 0,
              "ticks": ""
             }
            }
           }
          ],
          "histogram": [
           {
            "marker": {
             "pattern": {
              "fillmode": "overlay",
              "size": 10,
              "solidity": 0.2
             }
            },
            "type": "histogram"
           }
          ],
          "scattergl": [
           {
            "type": "scattergl",
            "marker": {
             "colorbar": {
              "outlinewidth": 0,
              "ticks": ""
             }
            }
           }
          ],
          "scatter3d": [
           {
            "type": "scatter3d",
            "line": {
             "colorbar": {
              "outlinewidth": 0,
              "ticks": ""
             }
            },
            "marker": {
             "colorbar": {
              "outlinewidth": 0,
              "ticks": ""
             }
            }
           }
          ],
          "scattermap": [
           {
            "type": "scattermap",
            "marker": {
             "colorbar": {
              "outlinewidth": 0,
              "ticks": ""
             }
            }
           }
          ],
          "scattermapbox": [
           {
            "type": "scattermapbox",
            "marker": {
             "colorbar": {
              "outlinewidth": 0,
              "ticks": ""
             }
            }
           }
          ],
          "scatterternary": [
           {
            "type": "scatterternary",
            "marker": {
             "colorbar": {
              "outlinewidth": 0,
              "ticks": ""
             }
            }
           }
          ],
          "scattercarpet": [
           {
            "type": "scattercarpet",
            "marker": {
             "colorbar": {
              "outlinewidth": 0,
              "ticks": ""
             }
            }
           }
          ],
          "carpet": [
           {
            "aaxis": {
             "endlinecolor": "#2a3f5f",
             "gridcolor": "white",
             "linecolor": "white",
             "minorgridcolor": "white",
             "startlinecolor": "#2a3f5f"
            },
            "baxis": {
             "endlinecolor": "#2a3f5f",
             "gridcolor": "white",
             "linecolor": "white",
             "minorgridcolor": "white",
             "startlinecolor": "#2a3f5f"
            },
            "type": "carpet"
           }
          ],
          "table": [
           {
            "cells": {
             "fill": {
              "color": "#EBF0F8"
             },
             "line": {
              "color": "white"
             }
            },
            "header": {
             "fill": {
              "color": "#C8D4E3"
             },
             "line": {
              "color": "white"
             }
            },
            "type": "table"
           }
          ],
          "barpolar": [
           {
            "marker": {
             "line": {
              "color": "#E5ECF6",
              "width": 0.5
             },
             "pattern": {
              "fillmode": "overlay",
              "size": 10,
              "solidity": 0.2
             }
            },
            "type": "barpolar"
           }
          ],
          "pie": [
           {
            "automargin": true,
            "type": "pie"
           }
          ]
         },
         "layout": {
          "autotypenumbers": "strict",
          "colorway": [
           "#636efa",
           "#EF553B",
           "#00cc96",
           "#ab63fa",
           "#FFA15A",
           "#19d3f3",
           "#FF6692",
           "#B6E880",
           "#FF97FF",
           "#FECB52"
          ],
          "font": {
           "color": "#2a3f5f"
          },
          "hovermode": "closest",
          "hoverlabel": {
           "align": "left"
          },
          "paper_bgcolor": "white",
          "plot_bgcolor": "#E5ECF6",
          "polar": {
           "bgcolor": "#E5ECF6",
           "angularaxis": {
            "gridcolor": "white",
            "linecolor": "white",
            "ticks": ""
           },
           "radialaxis": {
            "gridcolor": "white",
            "linecolor": "white",
            "ticks": ""
           }
          },
          "ternary": {
           "bgcolor": "#E5ECF6",
           "aaxis": {
            "gridcolor": "white",
            "linecolor": "white",
            "ticks": ""
           },
           "baxis": {
            "gridcolor": "white",
            "linecolor": "white",
            "ticks": ""
           },
           "caxis": {
            "gridcolor": "white",
            "linecolor": "white",
            "ticks": ""
           }
          },
          "coloraxis": {
           "colorbar": {
            "outlinewidth": 0,
            "ticks": ""
           }
          },
          "colorscale": {
           "sequential": [
            [
             0.0,
             "#0d0887"
            ],
            [
             0.1111111111111111,
             "#46039f"
            ],
            [
             0.2222222222222222,
             "#7201a8"
            ],
            [
             0.3333333333333333,
             "#9c179e"
            ],
            [
             0.4444444444444444,
             "#bd3786"
            ],
            [
             0.5555555555555556,
             "#d8576b"
            ],
            [
             0.6666666666666666,
             "#ed7953"
            ],
            [
             0.7777777777777778,
             "#fb9f3a"
            ],
            [
             0.8888888888888888,
             "#fdca26"
            ],
            [
             1.0,
             "#f0f921"
            ]
           ],
           "sequentialminus": [
            [
             0.0,
             "#0d0887"
            ],
            [
             0.1111111111111111,
             "#46039f"
            ],
            [
             0.2222222222222222,
             "#7201a8"
            ],
            [
             0.3333333333333333,
             "#9c179e"
            ],
            [
             0.4444444444444444,
             "#bd3786"
            ],
            [
             0.5555555555555556,
             "#d8576b"
            ],
            [
             0.6666666666666666,
             "#ed7953"
            ],
            [
             0.7777777777777778,
             "#fb9f3a"
            ],
            [
             0.8888888888888888,
             "#fdca26"
            ],
            [
             1.0,
             "#f0f921"
            ]
           ],
           "diverging": [
            [
             0,
             "#8e0152"
            ],
            [
             0.1,
             "#c51b7d"
            ],
            [
             0.2,
             "#de77ae"
            ],
            [
             0.3,
             "#f1b6da"
            ],
            [
             0.4,
             "#fde0ef"
            ],
            [
             0.5,
             "#f7f7f7"
            ],
            [
             0.6,
             "#e6f5d0"
            ],
            [
             0.7,
             "#b8e186"
            ],
            [
             0.8,
             "#7fbc41"
            ],
            [
             0.9,
             "#4d9221"
            ],
            [
             1,
             "#276419"
            ]
           ]
          },
          "xaxis": {
           "gridcolor": "white",
           "linecolor": "white",
           "ticks": "",
           "title": {
            "standoff": 15
           },
           "zerolinecolor": "white",
           "automargin": true,
           "zerolinewidth": 2
          },
          "yaxis": {
           "gridcolor": "white",
           "linecolor": "white",
           "ticks": "",
           "title": {
            "standoff": 15
           },
           "zerolinecolor": "white",
           "automargin": true,
           "zerolinewidth": 2
          },
          "scene": {
           "xaxis": {
            "backgroundcolor": "#E5ECF6",
            "gridcolor": "white",
            "linecolor": "white",
            "showbackground": true,
            "ticks": "",
            "zerolinecolor": "white",
            "gridwidth": 2
           },
           "yaxis": {
            "backgroundcolor": "#E5ECF6",
            "gridcolor": "white",
            "linecolor": "white",
            "showbackground": true,
            "ticks": "",
            "zerolinecolor": "white",
            "gridwidth": 2
           },
           "zaxis": {
            "backgroundcolor": "#E5ECF6",
            "gridcolor": "white",
            "linecolor": "white",
            "showbackground": true,
            "ticks": "",
            "zerolinecolor": "white",
            "gridwidth": 2
           }
          },
          "shapedefaults": {
           "line": {
            "color": "#2a3f5f"
           }
          },
          "annotationdefaults": {
           "arrowcolor": "#2a3f5f",
           "arrowhead": 0,
           "arrowwidth": 1
          },
          "geo": {
           "bgcolor": "white",
           "landcolor": "#E5ECF6",
           "subunitcolor": "white",
           "showland": true,
           "showlakes": true,
           "lakecolor": "white"
          },
          "title": {
           "x": 0.05
          },
          "mapbox": {
           "style": "light"
          }
         }
        }
       },
       "config": {
        "plotlyServerURL": "https://plot.ly"
       }
      }
     },
     "metadata": {},
     "output_type": "display_data"
    },
    {
     "data": {
      "application/vnd.plotly.v1+json": {
       "data": [
        {
         "cliponaxis": false,
         "hovertemplate": [
          "depth (IntDistribution): 0.0<extra></extra>",
          "random_strength (FloatDistribution): 0.10344827586206896<extra></extra>",
          "rsm (FloatDistribution): 0.10344827586206896<extra></extra>",
          "l2_leaf_reg (FloatDistribution): 0.13793103448275862<extra></extra>",
          "iterations (IntDistribution): 0.1724137931034483<extra></extra>",
          "bagging_temperature (FloatDistribution): 0.2413793103448276<extra></extra>",
          "learning_rate (FloatDistribution): 0.2413793103448276<extra></extra>"
         ],
         "name": "Objective Value",
         "orientation": "h",
         "text": [
          "<0.01",
          "0.10",
          "0.10",
          "0.14",
          "0.17",
          "0.24",
          "0.24"
         ],
         "textposition": "outside",
         "x": [
          0.0,
          0.10344827586206896,
          0.10344827586206896,
          0.13793103448275862,
          0.1724137931034483,
          0.2413793103448276,
          0.2413793103448276
         ],
         "y": [
          "depth",
          "random_strength",
          "rsm",
          "l2_leaf_reg",
          "iterations",
          "bagging_temperature",
          "learning_rate"
         ],
         "type": "bar"
        }
       ],
       "layout": {
        "title": {
         "text": "Hyperparameter Importances"
        },
        "xaxis": {
         "title": {
          "text": "Hyperparameter Importance"
         }
        },
        "yaxis": {
         "title": {
          "text": "Hyperparameter"
         }
        },
        "template": {
         "data": {
          "histogram2dcontour": [
           {
            "type": "histogram2dcontour",
            "colorbar": {
             "outlinewidth": 0,
             "ticks": ""
            },
            "colorscale": [
             [
              0.0,
              "#0d0887"
             ],
             [
              0.1111111111111111,
              "#46039f"
             ],
             [
              0.2222222222222222,
              "#7201a8"
             ],
             [
              0.3333333333333333,
              "#9c179e"
             ],
             [
              0.4444444444444444,
              "#bd3786"
             ],
             [
              0.5555555555555556,
              "#d8576b"
             ],
             [
              0.6666666666666666,
              "#ed7953"
             ],
             [
              0.7777777777777778,
              "#fb9f3a"
             ],
             [
              0.8888888888888888,
              "#fdca26"
             ],
             [
              1.0,
              "#f0f921"
             ]
            ]
           }
          ],
          "choropleth": [
           {
            "type": "choropleth",
            "colorbar": {
             "outlinewidth": 0,
             "ticks": ""
            }
           }
          ],
          "histogram2d": [
           {
            "type": "histogram2d",
            "colorbar": {
             "outlinewidth": 0,
             "ticks": ""
            },
            "colorscale": [
             [
              0.0,
              "#0d0887"
             ],
             [
              0.1111111111111111,
              "#46039f"
             ],
             [
              0.2222222222222222,
              "#7201a8"
             ],
             [
              0.3333333333333333,
              "#9c179e"
             ],
             [
              0.4444444444444444,
              "#bd3786"
             ],
             [
              0.5555555555555556,
              "#d8576b"
             ],
             [
              0.6666666666666666,
              "#ed7953"
             ],
             [
              0.7777777777777778,
              "#fb9f3a"
             ],
             [
              0.8888888888888888,
              "#fdca26"
             ],
             [
              1.0,
              "#f0f921"
             ]
            ]
           }
          ],
          "heatmap": [
           {
            "type": "heatmap",
            "colorbar": {
             "outlinewidth": 0,
             "ticks": ""
            },
            "colorscale": [
             [
              0.0,
              "#0d0887"
             ],
             [
              0.1111111111111111,
              "#46039f"
             ],
             [
              0.2222222222222222,
              "#7201a8"
             ],
             [
              0.3333333333333333,
              "#9c179e"
             ],
             [
              0.4444444444444444,
              "#bd3786"
             ],
             [
              0.5555555555555556,
              "#d8576b"
             ],
             [
              0.6666666666666666,
              "#ed7953"
             ],
             [
              0.7777777777777778,
              "#fb9f3a"
             ],
             [
              0.8888888888888888,
              "#fdca26"
             ],
             [
              1.0,
              "#f0f921"
             ]
            ]
           }
          ],
          "contourcarpet": [
           {
            "type": "contourcarpet",
            "colorbar": {
             "outlinewidth": 0,
             "ticks": ""
            }
           }
          ],
          "contour": [
           {
            "type": "contour",
            "colorbar": {
             "outlinewidth": 0,
             "ticks": ""
            },
            "colorscale": [
             [
              0.0,
              "#0d0887"
             ],
             [
              0.1111111111111111,
              "#46039f"
             ],
             [
              0.2222222222222222,
              "#7201a8"
             ],
             [
              0.3333333333333333,
              "#9c179e"
             ],
             [
              0.4444444444444444,
              "#bd3786"
             ],
             [
              0.5555555555555556,
              "#d8576b"
             ],
             [
              0.6666666666666666,
              "#ed7953"
             ],
             [
              0.7777777777777778,
              "#fb9f3a"
             ],
             [
              0.8888888888888888,
              "#fdca26"
             ],
             [
              1.0,
              "#f0f921"
             ]
            ]
           }
          ],
          "surface": [
           {
            "type": "surface",
            "colorbar": {
             "outlinewidth": 0,
             "ticks": ""
            },
            "colorscale": [
             [
              0.0,
              "#0d0887"
             ],
             [
              0.1111111111111111,
              "#46039f"
             ],
             [
              0.2222222222222222,
              "#7201a8"
             ],
             [
              0.3333333333333333,
              "#9c179e"
             ],
             [
              0.4444444444444444,
              "#bd3786"
             ],
             [
              0.5555555555555556,
              "#d8576b"
             ],
             [
              0.6666666666666666,
              "#ed7953"
             ],
             [
              0.7777777777777778,
              "#fb9f3a"
             ],
             [
              0.8888888888888888,
              "#fdca26"
             ],
             [
              1.0,
              "#f0f921"
             ]
            ]
           }
          ],
          "mesh3d": [
           {
            "type": "mesh3d",
            "colorbar": {
             "outlinewidth": 0,
             "ticks": ""
            }
           }
          ],
          "scatter": [
           {
            "fillpattern": {
             "fillmode": "overlay",
             "size": 10,
             "solidity": 0.2
            },
            "type": "scatter"
           }
          ],
          "parcoords": [
           {
            "type": "parcoords",
            "line": {
             "colorbar": {
              "outlinewidth": 0,
              "ticks": ""
             }
            }
           }
          ],
          "scatterpolargl": [
           {
            "type": "scatterpolargl",
            "marker": {
             "colorbar": {
              "outlinewidth": 0,
              "ticks": ""
             }
            }
           }
          ],
          "bar": [
           {
            "error_x": {
             "color": "#2a3f5f"
            },
            "error_y": {
             "color": "#2a3f5f"
            },
            "marker": {
             "line": {
              "color": "#E5ECF6",
              "width": 0.5
             },
             "pattern": {
              "fillmode": "overlay",
              "size": 10,
              "solidity": 0.2
             }
            },
            "type": "bar"
           }
          ],
          "scattergeo": [
           {
            "type": "scattergeo",
            "marker": {
             "colorbar": {
              "outlinewidth": 0,
              "ticks": ""
             }
            }
           }
          ],
          "scatterpolar": [
           {
            "type": "scatterpolar",
            "marker": {
             "colorbar": {
              "outlinewidth": 0,
              "ticks": ""
             }
            }
           }
          ],
          "histogram": [
           {
            "marker": {
             "pattern": {
              "fillmode": "overlay",
              "size": 10,
              "solidity": 0.2
             }
            },
            "type": "histogram"
           }
          ],
          "scattergl": [
           {
            "type": "scattergl",
            "marker": {
             "colorbar": {
              "outlinewidth": 0,
              "ticks": ""
             }
            }
           }
          ],
          "scatter3d": [
           {
            "type": "scatter3d",
            "line": {
             "colorbar": {
              "outlinewidth": 0,
              "ticks": ""
             }
            },
            "marker": {
             "colorbar": {
              "outlinewidth": 0,
              "ticks": ""
             }
            }
           }
          ],
          "scattermap": [
           {
            "type": "scattermap",
            "marker": {
             "colorbar": {
              "outlinewidth": 0,
              "ticks": ""
             }
            }
           }
          ],
          "scattermapbox": [
           {
            "type": "scattermapbox",
            "marker": {
             "colorbar": {
              "outlinewidth": 0,
              "ticks": ""
             }
            }
           }
          ],
          "scatterternary": [
           {
            "type": "scatterternary",
            "marker": {
             "colorbar": {
              "outlinewidth": 0,
              "ticks": ""
             }
            }
           }
          ],
          "scattercarpet": [
           {
            "type": "scattercarpet",
            "marker": {
             "colorbar": {
              "outlinewidth": 0,
              "ticks": ""
             }
            }
           }
          ],
          "carpet": [
           {
            "aaxis": {
             "endlinecolor": "#2a3f5f",
             "gridcolor": "white",
             "linecolor": "white",
             "minorgridcolor": "white",
             "startlinecolor": "#2a3f5f"
            },
            "baxis": {
             "endlinecolor": "#2a3f5f",
             "gridcolor": "white",
             "linecolor": "white",
             "minorgridcolor": "white",
             "startlinecolor": "#2a3f5f"
            },
            "type": "carpet"
           }
          ],
          "table": [
           {
            "cells": {
             "fill": {
              "color": "#EBF0F8"
             },
             "line": {
              "color": "white"
             }
            },
            "header": {
             "fill": {
              "color": "#C8D4E3"
             },
             "line": {
              "color": "white"
             }
            },
            "type": "table"
           }
          ],
          "barpolar": [
           {
            "marker": {
             "line": {
              "color": "#E5ECF6",
              "width": 0.5
             },
             "pattern": {
              "fillmode": "overlay",
              "size": 10,
              "solidity": 0.2
             }
            },
            "type": "barpolar"
           }
          ],
          "pie": [
           {
            "automargin": true,
            "type": "pie"
           }
          ]
         },
         "layout": {
          "autotypenumbers": "strict",
          "colorway": [
           "#636efa",
           "#EF553B",
           "#00cc96",
           "#ab63fa",
           "#FFA15A",
           "#19d3f3",
           "#FF6692",
           "#B6E880",
           "#FF97FF",
           "#FECB52"
          ],
          "font": {
           "color": "#2a3f5f"
          },
          "hovermode": "closest",
          "hoverlabel": {
           "align": "left"
          },
          "paper_bgcolor": "white",
          "plot_bgcolor": "#E5ECF6",
          "polar": {
           "bgcolor": "#E5ECF6",
           "angularaxis": {
            "gridcolor": "white",
            "linecolor": "white",
            "ticks": ""
           },
           "radialaxis": {
            "gridcolor": "white",
            "linecolor": "white",
            "ticks": ""
           }
          },
          "ternary": {
           "bgcolor": "#E5ECF6",
           "aaxis": {
            "gridcolor": "white",
            "linecolor": "white",
            "ticks": ""
           },
           "baxis": {
            "gridcolor": "white",
            "linecolor": "white",
            "ticks": ""
           },
           "caxis": {
            "gridcolor": "white",
            "linecolor": "white",
            "ticks": ""
           }
          },
          "coloraxis": {
           "colorbar": {
            "outlinewidth": 0,
            "ticks": ""
           }
          },
          "colorscale": {
           "sequential": [
            [
             0.0,
             "#0d0887"
            ],
            [
             0.1111111111111111,
             "#46039f"
            ],
            [
             0.2222222222222222,
             "#7201a8"
            ],
            [
             0.3333333333333333,
             "#9c179e"
            ],
            [
             0.4444444444444444,
             "#bd3786"
            ],
            [
             0.5555555555555556,
             "#d8576b"
            ],
            [
             0.6666666666666666,
             "#ed7953"
            ],
            [
             0.7777777777777778,
             "#fb9f3a"
            ],
            [
             0.8888888888888888,
             "#fdca26"
            ],
            [
             1.0,
             "#f0f921"
            ]
           ],
           "sequentialminus": [
            [
             0.0,
             "#0d0887"
            ],
            [
             0.1111111111111111,
             "#46039f"
            ],
            [
             0.2222222222222222,
             "#7201a8"
            ],
            [
             0.3333333333333333,
             "#9c179e"
            ],
            [
             0.4444444444444444,
             "#bd3786"
            ],
            [
             0.5555555555555556,
             "#d8576b"
            ],
            [
             0.6666666666666666,
             "#ed7953"
            ],
            [
             0.7777777777777778,
             "#fb9f3a"
            ],
            [
             0.8888888888888888,
             "#fdca26"
            ],
            [
             1.0,
             "#f0f921"
            ]
           ],
           "diverging": [
            [
             0,
             "#8e0152"
            ],
            [
             0.1,
             "#c51b7d"
            ],
            [
             0.2,
             "#de77ae"
            ],
            [
             0.3,
             "#f1b6da"
            ],
            [
             0.4,
             "#fde0ef"
            ],
            [
             0.5,
             "#f7f7f7"
            ],
            [
             0.6,
             "#e6f5d0"
            ],
            [
             0.7,
             "#b8e186"
            ],
            [
             0.8,
             "#7fbc41"
            ],
            [
             0.9,
             "#4d9221"
            ],
            [
             1,
             "#276419"
            ]
           ]
          },
          "xaxis": {
           "gridcolor": "white",
           "linecolor": "white",
           "ticks": "",
           "title": {
            "standoff": 15
           },
           "zerolinecolor": "white",
           "automargin": true,
           "zerolinewidth": 2
          },
          "yaxis": {
           "gridcolor": "white",
           "linecolor": "white",
           "ticks": "",
           "title": {
            "standoff": 15
           },
           "zerolinecolor": "white",
           "automargin": true,
           "zerolinewidth": 2
          },
          "scene": {
           "xaxis": {
            "backgroundcolor": "#E5ECF6",
            "gridcolor": "white",
            "linecolor": "white",
            "showbackground": true,
            "ticks": "",
            "zerolinecolor": "white",
            "gridwidth": 2
           },
           "yaxis": {
            "backgroundcolor": "#E5ECF6",
            "gridcolor": "white",
            "linecolor": "white",
            "showbackground": true,
            "ticks": "",
            "zerolinecolor": "white",
            "gridwidth": 2
           },
           "zaxis": {
            "backgroundcolor": "#E5ECF6",
            "gridcolor": "white",
            "linecolor": "white",
            "showbackground": true,
            "ticks": "",
            "zerolinecolor": "white",
            "gridwidth": 2
           }
          },
          "shapedefaults": {
           "line": {
            "color": "#2a3f5f"
           }
          },
          "annotationdefaults": {
           "arrowcolor": "#2a3f5f",
           "arrowhead": 0,
           "arrowwidth": 1
          },
          "geo": {
           "bgcolor": "white",
           "landcolor": "#E5ECF6",
           "subunitcolor": "white",
           "showland": true,
           "showlakes": true,
           "lakecolor": "white"
          },
          "title": {
           "x": 0.05
          },
          "mapbox": {
           "style": "light"
          }
         }
        }
       },
       "config": {
        "plotlyServerURL": "https://plot.ly"
       }
      }
     },
     "metadata": {},
     "output_type": "display_data"
    },
    {
     "data": {
      "application/vnd.plotly.v1+json": {
       "data": [
        {
         "marker": {
          "color": [
           0,
           1
          ],
          "colorbar": {
           "title": {
            "text": "Trial"
           },
           "x": 1.0,
           "xpad": 40
          },
          "colorscale": [
           [
            0.0,
            "rgb(247,251,255)"
           ],
           [
            0.125,
            "rgb(222,235,247)"
           ],
           [
            0.25,
            "rgb(198,219,239)"
           ],
           [
            0.375,
            "rgb(158,202,225)"
           ],
           [
            0.5,
            "rgb(107,174,214)"
           ],
           [
            0.625,
            "rgb(66,146,198)"
           ],
           [
            0.75,
            "rgb(33,113,181)"
           ],
           [
            0.875,
            "rgb(8,81,156)"
           ],
           [
            1.0,
            "rgb(8,48,107)"
           ]
          ],
          "line": {
           "color": "Grey",
           "width": 0.5
          },
          "showscale": true
         },
         "mode": "markers",
         "name": "Feasible Trial",
         "showlegend": false,
         "x": [
          0.23694226951564235,
          0.29079392420788186
         ],
         "y": [
          1.3888959373369951,
          1.1111788234455826
         ],
         "type": "scatter",
         "xaxis": "x",
         "yaxis": "y"
        },
        {
         "marker": {
          "color": [
           0,
           1
          ],
          "colorbar": {
           "title": {
            "text": "Trial"
           },
           "x": 1.0,
           "xpad": 40
          },
          "colorscale": [
           [
            0.0,
            "rgb(247,251,255)"
           ],
           [
            0.125,
            "rgb(222,235,247)"
           ],
           [
            0.25,
            "rgb(198,219,239)"
           ],
           [
            0.375,
            "rgb(158,202,225)"
           ],
           [
            0.5,
            "rgb(107,174,214)"
           ],
           [
            0.625,
            "rgb(66,146,198)"
           ],
           [
            0.75,
            "rgb(33,113,181)"
           ],
           [
            0.875,
            "rgb(8,81,156)"
           ],
           [
            1.0,
            "rgb(8,48,107)"
           ]
          ],
          "line": {
           "color": "Grey",
           "width": 0.5
          },
          "showscale": false
         },
         "mode": "markers",
         "name": "Feasible Trial",
         "showlegend": false,
         "x": [
          6,
          6
         ],
         "y": [
          1.3888959373369951,
          1.1111788234455826
         ],
         "type": "scatter",
         "xaxis": "x2",
         "yaxis": "y2"
        },
        {
         "marker": {
          "color": [
           0,
           1
          ],
          "colorbar": {
           "title": {
            "text": "Trial"
           },
           "x": 1.0,
           "xpad": 40
          },
          "colorscale": [
           [
            0.0,
            "rgb(247,251,255)"
           ],
           [
            0.125,
            "rgb(222,235,247)"
           ],
           [
            0.25,
            "rgb(198,219,239)"
           ],
           [
            0.375,
            "rgb(158,202,225)"
           ],
           [
            0.5,
            "rgb(107,174,214)"
           ],
           [
            0.625,
            "rgb(66,146,198)"
           ],
           [
            0.75,
            "rgb(33,113,181)"
           ],
           [
            0.875,
            "rgb(8,81,156)"
           ],
           [
            1.0,
            "rgb(8,48,107)"
           ]
          ],
          "line": {
           "color": "Grey",
           "width": 0.5
          },
          "showscale": false
         },
         "mode": "markers",
         "name": "Feasible Trial",
         "showlegend": false,
         "x": [
          362,
          864
         ],
         "y": [
          1.3888959373369951,
          1.1111788234455826
         ],
         "type": "scatter",
         "xaxis": "x3",
         "yaxis": "y3"
        },
        {
         "marker": {
          "color": [
           0,
           1
          ],
          "colorbar": {
           "title": {
            "text": "Trial"
           },
           "x": 1.0,
           "xpad": 40
          },
          "colorscale": [
           [
            0.0,
            "rgb(247,251,255)"
           ],
           [
            0.125,
            "rgb(222,235,247)"
           ],
           [
            0.25,
            "rgb(198,219,239)"
           ],
           [
            0.375,
            "rgb(158,202,225)"
           ],
           [
            0.5,
            "rgb(107,174,214)"
           ],
           [
            0.625,
            "rgb(66,146,198)"
           ],
           [
            0.75,
            "rgb(33,113,181)"
           ],
           [
            0.875,
            "rgb(8,81,156)"
           ],
           [
            1.0,
            "rgb(8,48,107)"
           ]
          ],
          "line": {
           "color": "Grey",
           "width": 0.5
          },
          "showscale": false
         },
         "mode": "markers",
         "name": "Feasible Trial",
         "showlegend": false,
         "x": [
          1.0949982739377613,
          0.010898672864070572
         ],
         "y": [
          1.3888959373369951,
          1.1111788234455826
         ],
         "type": "scatter",
         "xaxis": "x4",
         "yaxis": "y4"
        },
        {
         "marker": {
          "color": [
           0,
           1
          ],
          "colorbar": {
           "title": {
            "text": "Trial"
           },
           "x": 1.0,
           "xpad": 40
          },
          "colorscale": [
           [
            0.0,
            "rgb(247,251,255)"
           ],
           [
            0.125,
            "rgb(222,235,247)"
           ],
           [
            0.25,
            "rgb(198,219,239)"
           ],
           [
            0.375,
            "rgb(158,202,225)"
           ],
           [
            0.5,
            "rgb(107,174,214)"
           ],
           [
            0.625,
            "rgb(66,146,198)"
           ],
           [
            0.75,
            "rgb(33,113,181)"
           ],
           [
            0.875,
            "rgb(8,81,156)"
           ],
           [
            1.0,
            "rgb(8,48,107)"
           ]
          ],
          "line": {
           "color": "Grey",
           "width": 0.5
          },
          "showscale": false
         },
         "mode": "markers",
         "name": "Feasible Trial",
         "showlegend": false,
         "x": [
          0.014101173955369927,
          0.01753464357671333
         ],
         "y": [
          1.3888959373369951,
          1.1111788234455826
         ],
         "type": "scatter",
         "xaxis": "x5",
         "yaxis": "y5"
        },
        {
         "marker": {
          "color": [
           0,
           1
          ],
          "colorbar": {
           "title": {
            "text": "Trial"
           },
           "x": 1.0,
           "xpad": 40
          },
          "colorscale": [
           [
            0.0,
            "rgb(247,251,255)"
           ],
           [
            0.125,
            "rgb(222,235,247)"
           ],
           [
            0.25,
            "rgb(198,219,239)"
           ],
           [
            0.375,
            "rgb(158,202,225)"
           ],
           [
            0.5,
            "rgb(107,174,214)"
           ],
           [
            0.625,
            "rgb(66,146,198)"
           ],
           [
            0.75,
            "rgb(33,113,181)"
           ],
           [
            0.875,
            "rgb(8,81,156)"
           ],
           [
            1.0,
            "rgb(8,48,107)"
           ]
          ],
          "line": {
           "color": "Grey",
           "width": 0.5
          },
          "showscale": false
         },
         "mode": "markers",
         "name": "Feasible Trial",
         "showlegend": false,
         "x": [
          0.21734422426990666,
          0.14619940159521475
         ],
         "y": [
          1.3888959373369951,
          1.1111788234455826
         ],
         "type": "scatter",
         "xaxis": "x6",
         "yaxis": "y6"
        },
        {
         "marker": {
          "color": [
           0,
           1
          ],
          "colorbar": {
           "title": {
            "text": "Trial"
           },
           "x": 1.0,
           "xpad": 40
          },
          "colorscale": [
           [
            0.0,
            "rgb(247,251,255)"
           ],
           [
            0.125,
            "rgb(222,235,247)"
           ],
           [
            0.25,
            "rgb(198,219,239)"
           ],
           [
            0.375,
            "rgb(158,202,225)"
           ],
           [
            0.5,
            "rgb(107,174,214)"
           ],
           [
            0.625,
            "rgb(66,146,198)"
           ],
           [
            0.75,
            "rgb(33,113,181)"
           ],
           [
            0.875,
            "rgb(8,81,156)"
           ],
           [
            1.0,
            "rgb(8,48,107)"
           ]
          ],
          "line": {
           "color": "Grey",
           "width": 0.5
          },
          "showscale": false
         },
         "mode": "markers",
         "name": "Feasible Trial",
         "showlegend": false,
         "x": [
          0.7693123561930143,
          0.9362757050703845
         ],
         "y": [
          1.3888959373369951,
          1.1111788234455826
         ],
         "type": "scatter",
         "xaxis": "x7",
         "yaxis": "y7"
        }
       ],
       "layout": {
        "template": {
         "data": {
          "histogram2dcontour": [
           {
            "type": "histogram2dcontour",
            "colorbar": {
             "outlinewidth": 0,
             "ticks": ""
            },
            "colorscale": [
             [
              0.0,
              "#0d0887"
             ],
             [
              0.1111111111111111,
              "#46039f"
             ],
             [
              0.2222222222222222,
              "#7201a8"
             ],
             [
              0.3333333333333333,
              "#9c179e"
             ],
             [
              0.4444444444444444,
              "#bd3786"
             ],
             [
              0.5555555555555556,
              "#d8576b"
             ],
             [
              0.6666666666666666,
              "#ed7953"
             ],
             [
              0.7777777777777778,
              "#fb9f3a"
             ],
             [
              0.8888888888888888,
              "#fdca26"
             ],
             [
              1.0,
              "#f0f921"
             ]
            ]
           }
          ],
          "choropleth": [
           {
            "type": "choropleth",
            "colorbar": {
             "outlinewidth": 0,
             "ticks": ""
            }
           }
          ],
          "histogram2d": [
           {
            "type": "histogram2d",
            "colorbar": {
             "outlinewidth": 0,
             "ticks": ""
            },
            "colorscale": [
             [
              0.0,
              "#0d0887"
             ],
             [
              0.1111111111111111,
              "#46039f"
             ],
             [
              0.2222222222222222,
              "#7201a8"
             ],
             [
              0.3333333333333333,
              "#9c179e"
             ],
             [
              0.4444444444444444,
              "#bd3786"
             ],
             [
              0.5555555555555556,
              "#d8576b"
             ],
             [
              0.6666666666666666,
              "#ed7953"
             ],
             [
              0.7777777777777778,
              "#fb9f3a"
             ],
             [
              0.8888888888888888,
              "#fdca26"
             ],
             [
              1.0,
              "#f0f921"
             ]
            ]
           }
          ],
          "heatmap": [
           {
            "type": "heatmap",
            "colorbar": {
             "outlinewidth": 0,
             "ticks": ""
            },
            "colorscale": [
             [
              0.0,
              "#0d0887"
             ],
             [
              0.1111111111111111,
              "#46039f"
             ],
             [
              0.2222222222222222,
              "#7201a8"
             ],
             [
              0.3333333333333333,
              "#9c179e"
             ],
             [
              0.4444444444444444,
              "#bd3786"
             ],
             [
              0.5555555555555556,
              "#d8576b"
             ],
             [
              0.6666666666666666,
              "#ed7953"
             ],
             [
              0.7777777777777778,
              "#fb9f3a"
             ],
             [
              0.8888888888888888,
              "#fdca26"
             ],
             [
              1.0,
              "#f0f921"
             ]
            ]
           }
          ],
          "contourcarpet": [
           {
            "type": "contourcarpet",
            "colorbar": {
             "outlinewidth": 0,
             "ticks": ""
            }
           }
          ],
          "contour": [
           {
            "type": "contour",
            "colorbar": {
             "outlinewidth": 0,
             "ticks": ""
            },
            "colorscale": [
             [
              0.0,
              "#0d0887"
             ],
             [
              0.1111111111111111,
              "#46039f"
             ],
             [
              0.2222222222222222,
              "#7201a8"
             ],
             [
              0.3333333333333333,
              "#9c179e"
             ],
             [
              0.4444444444444444,
              "#bd3786"
             ],
             [
              0.5555555555555556,
              "#d8576b"
             ],
             [
              0.6666666666666666,
              "#ed7953"
             ],
             [
              0.7777777777777778,
              "#fb9f3a"
             ],
             [
              0.8888888888888888,
              "#fdca26"
             ],
             [
              1.0,
              "#f0f921"
             ]
            ]
           }
          ],
          "surface": [
           {
            "type": "surface",
            "colorbar": {
             "outlinewidth": 0,
             "ticks": ""
            },
            "colorscale": [
             [
              0.0,
              "#0d0887"
             ],
             [
              0.1111111111111111,
              "#46039f"
             ],
             [
              0.2222222222222222,
              "#7201a8"
             ],
             [
              0.3333333333333333,
              "#9c179e"
             ],
             [
              0.4444444444444444,
              "#bd3786"
             ],
             [
              0.5555555555555556,
              "#d8576b"
             ],
             [
              0.6666666666666666,
              "#ed7953"
             ],
             [
              0.7777777777777778,
              "#fb9f3a"
             ],
             [
              0.8888888888888888,
              "#fdca26"
             ],
             [
              1.0,
              "#f0f921"
             ]
            ]
           }
          ],
          "mesh3d": [
           {
            "type": "mesh3d",
            "colorbar": {
             "outlinewidth": 0,
             "ticks": ""
            }
           }
          ],
          "scatter": [
           {
            "fillpattern": {
             "fillmode": "overlay",
             "size": 10,
             "solidity": 0.2
            },
            "type": "scatter"
           }
          ],
          "parcoords": [
           {
            "type": "parcoords",
            "line": {
             "colorbar": {
              "outlinewidth": 0,
              "ticks": ""
             }
            }
           }
          ],
          "scatterpolargl": [
           {
            "type": "scatterpolargl",
            "marker": {
             "colorbar": {
              "outlinewidth": 0,
              "ticks": ""
             }
            }
           }
          ],
          "bar": [
           {
            "error_x": {
             "color": "#2a3f5f"
            },
            "error_y": {
             "color": "#2a3f5f"
            },
            "marker": {
             "line": {
              "color": "#E5ECF6",
              "width": 0.5
             },
             "pattern": {
              "fillmode": "overlay",
              "size": 10,
              "solidity": 0.2
             }
            },
            "type": "bar"
           }
          ],
          "scattergeo": [
           {
            "type": "scattergeo",
            "marker": {
             "colorbar": {
              "outlinewidth": 0,
              "ticks": ""
             }
            }
           }
          ],
          "scatterpolar": [
           {
            "type": "scatterpolar",
            "marker": {
             "colorbar": {
              "outlinewidth": 0,
              "ticks": ""
             }
            }
           }
          ],
          "histogram": [
           {
            "marker": {
             "pattern": {
              "fillmode": "overlay",
              "size": 10,
              "solidity": 0.2
             }
            },
            "type": "histogram"
           }
          ],
          "scattergl": [
           {
            "type": "scattergl",
            "marker": {
             "colorbar": {
              "outlinewidth": 0,
              "ticks": ""
             }
            }
           }
          ],
          "scatter3d": [
           {
            "type": "scatter3d",
            "line": {
             "colorbar": {
              "outlinewidth": 0,
              "ticks": ""
             }
            },
            "marker": {
             "colorbar": {
              "outlinewidth": 0,
              "ticks": ""
             }
            }
           }
          ],
          "scattermap": [
           {
            "type": "scattermap",
            "marker": {
             "colorbar": {
              "outlinewidth": 0,
              "ticks": ""
             }
            }
           }
          ],
          "scattermapbox": [
           {
            "type": "scattermapbox",
            "marker": {
             "colorbar": {
              "outlinewidth": 0,
              "ticks": ""
             }
            }
           }
          ],
          "scatterternary": [
           {
            "type": "scatterternary",
            "marker": {
             "colorbar": {
              "outlinewidth": 0,
              "ticks": ""
             }
            }
           }
          ],
          "scattercarpet": [
           {
            "type": "scattercarpet",
            "marker": {
             "colorbar": {
              "outlinewidth": 0,
              "ticks": ""
             }
            }
           }
          ],
          "carpet": [
           {
            "aaxis": {
             "endlinecolor": "#2a3f5f",
             "gridcolor": "white",
             "linecolor": "white",
             "minorgridcolor": "white",
             "startlinecolor": "#2a3f5f"
            },
            "baxis": {
             "endlinecolor": "#2a3f5f",
             "gridcolor": "white",
             "linecolor": "white",
             "minorgridcolor": "white",
             "startlinecolor": "#2a3f5f"
            },
            "type": "carpet"
           }
          ],
          "table": [
           {
            "cells": {
             "fill": {
              "color": "#EBF0F8"
             },
             "line": {
              "color": "white"
             }
            },
            "header": {
             "fill": {
              "color": "#C8D4E3"
             },
             "line": {
              "color": "white"
             }
            },
            "type": "table"
           }
          ],
          "barpolar": [
           {
            "marker": {
             "line": {
              "color": "#E5ECF6",
              "width": 0.5
             },
             "pattern": {
              "fillmode": "overlay",
              "size": 10,
              "solidity": 0.2
             }
            },
            "type": "barpolar"
           }
          ],
          "pie": [
           {
            "automargin": true,
            "type": "pie"
           }
          ]
         },
         "layout": {
          "autotypenumbers": "strict",
          "colorway": [
           "#636efa",
           "#EF553B",
           "#00cc96",
           "#ab63fa",
           "#FFA15A",
           "#19d3f3",
           "#FF6692",
           "#B6E880",
           "#FF97FF",
           "#FECB52"
          ],
          "font": {
           "color": "#2a3f5f"
          },
          "hovermode": "closest",
          "hoverlabel": {
           "align": "left"
          },
          "paper_bgcolor": "white",
          "plot_bgcolor": "#E5ECF6",
          "polar": {
           "bgcolor": "#E5ECF6",
           "angularaxis": {
            "gridcolor": "white",
            "linecolor": "white",
            "ticks": ""
           },
           "radialaxis": {
            "gridcolor": "white",
            "linecolor": "white",
            "ticks": ""
           }
          },
          "ternary": {
           "bgcolor": "#E5ECF6",
           "aaxis": {
            "gridcolor": "white",
            "linecolor": "white",
            "ticks": ""
           },
           "baxis": {
            "gridcolor": "white",
            "linecolor": "white",
            "ticks": ""
           },
           "caxis": {
            "gridcolor": "white",
            "linecolor": "white",
            "ticks": ""
           }
          },
          "coloraxis": {
           "colorbar": {
            "outlinewidth": 0,
            "ticks": ""
           }
          },
          "colorscale": {
           "sequential": [
            [
             0.0,
             "#0d0887"
            ],
            [
             0.1111111111111111,
             "#46039f"
            ],
            [
             0.2222222222222222,
             "#7201a8"
            ],
            [
             0.3333333333333333,
             "#9c179e"
            ],
            [
             0.4444444444444444,
             "#bd3786"
            ],
            [
             0.5555555555555556,
             "#d8576b"
            ],
            [
             0.6666666666666666,
             "#ed7953"
            ],
            [
             0.7777777777777778,
             "#fb9f3a"
            ],
            [
             0.8888888888888888,
             "#fdca26"
            ],
            [
             1.0,
             "#f0f921"
            ]
           ],
           "sequentialminus": [
            [
             0.0,
             "#0d0887"
            ],
            [
             0.1111111111111111,
             "#46039f"
            ],
            [
             0.2222222222222222,
             "#7201a8"
            ],
            [
             0.3333333333333333,
             "#9c179e"
            ],
            [
             0.4444444444444444,
             "#bd3786"
            ],
            [
             0.5555555555555556,
             "#d8576b"
            ],
            [
             0.6666666666666666,
             "#ed7953"
            ],
            [
             0.7777777777777778,
             "#fb9f3a"
            ],
            [
             0.8888888888888888,
             "#fdca26"
            ],
            [
             1.0,
             "#f0f921"
            ]
           ],
           "diverging": [
            [
             0,
             "#8e0152"
            ],
            [
             0.1,
             "#c51b7d"
            ],
            [
             0.2,
             "#de77ae"
            ],
            [
             0.3,
             "#f1b6da"
            ],
            [
             0.4,
             "#fde0ef"
            ],
            [
             0.5,
             "#f7f7f7"
            ],
            [
             0.6,
             "#e6f5d0"
            ],
            [
             0.7,
             "#b8e186"
            ],
            [
             0.8,
             "#7fbc41"
            ],
            [
             0.9,
             "#4d9221"
            ],
            [
             1,
             "#276419"
            ]
           ]
          },
          "xaxis": {
           "gridcolor": "white",
           "linecolor": "white",
           "ticks": "",
           "title": {
            "standoff": 15
           },
           "zerolinecolor": "white",
           "automargin": true,
           "zerolinewidth": 2
          },
          "yaxis": {
           "gridcolor": "white",
           "linecolor": "white",
           "ticks": "",
           "title": {
            "standoff": 15
           },
           "zerolinecolor": "white",
           "automargin": true,
           "zerolinewidth": 2
          },
          "scene": {
           "xaxis": {
            "backgroundcolor": "#E5ECF6",
            "gridcolor": "white",
            "linecolor": "white",
            "showbackground": true,
            "ticks": "",
            "zerolinecolor": "white",
            "gridwidth": 2
           },
           "yaxis": {
            "backgroundcolor": "#E5ECF6",
            "gridcolor": "white",
            "linecolor": "white",
            "showbackground": true,
            "ticks": "",
            "zerolinecolor": "white",
            "gridwidth": 2
           },
           "zaxis": {
            "backgroundcolor": "#E5ECF6",
            "gridcolor": "white",
            "linecolor": "white",
            "showbackground": true,
            "ticks": "",
            "zerolinecolor": "white",
            "gridwidth": 2
           }
          },
          "shapedefaults": {
           "line": {
            "color": "#2a3f5f"
           }
          },
          "annotationdefaults": {
           "arrowcolor": "#2a3f5f",
           "arrowhead": 0,
           "arrowwidth": 1
          },
          "geo": {
           "bgcolor": "white",
           "landcolor": "#E5ECF6",
           "subunitcolor": "white",
           "showland": true,
           "showlakes": true,
           "lakecolor": "white"
          },
          "title": {
           "x": 0.05
          },
          "mapbox": {
           "style": "light"
          }
         }
        },
        "xaxis": {
         "anchor": "y",
         "domain": [
          0.0,
          0.1183673469387755
         ],
         "title": {
          "text": "bagging_temperature"
         }
        },
        "yaxis": {
         "anchor": "x",
         "domain": [
          0.0,
          1.0
         ],
         "title": {
          "text": "Objective Value"
         }
        },
        "xaxis2": {
         "anchor": "y2",
         "domain": [
          0.14693877551020407,
          0.26530612244897955
         ],
         "title": {
          "text": "depth"
         }
        },
        "yaxis2": {
         "anchor": "x2",
         "domain": [
          0.0,
          1.0
         ],
         "matches": "y",
         "showticklabels": false
        },
        "xaxis3": {
         "anchor": "y3",
         "domain": [
          0.29387755102040813,
          0.4122448979591836
         ],
         "title": {
          "text": "iterations"
         }
        },
        "yaxis3": {
         "anchor": "x3",
         "domain": [
          0.0,
          1.0
         ],
         "matches": "y",
         "showticklabels": false
        },
        "xaxis4": {
         "anchor": "y4",
         "domain": [
          0.4408163265306122,
          0.5591836734693877
         ],
         "title": {
          "text": "l2_leaf_reg"
         },
         "type": "log"
        },
        "yaxis4": {
         "anchor": "x4",
         "domain": [
          0.0,
          1.0
         ],
         "matches": "y",
         "showticklabels": false
        },
        "xaxis5": {
         "anchor": "y5",
         "domain": [
          0.5877551020408163,
          0.7061224489795918
         ],
         "title": {
          "text": "learning_rate"
         },
         "type": "log"
        },
        "yaxis5": {
         "anchor": "x5",
         "domain": [
          0.0,
          1.0
         ],
         "matches": "y",
         "showticklabels": false
        },
        "xaxis6": {
         "anchor": "y6",
         "domain": [
          0.7346938775510204,
          0.8530612244897959
         ],
         "title": {
          "text": "random_strength"
         },
         "type": "log"
        },
        "yaxis6": {
         "anchor": "x6",
         "domain": [
          0.0,
          1.0
         ],
         "matches": "y",
         "showticklabels": false
        },
        "xaxis7": {
         "anchor": "y7",
         "domain": [
          0.8816326530612244,
          0.9999999999999999
         ],
         "title": {
          "text": "rsm"
         }
        },
        "yaxis7": {
         "anchor": "x7",
         "domain": [
          0.0,
          1.0
         ],
         "matches": "y",
         "showticklabels": false
        },
        "title": {
         "text": "Slice Plot"
        },
        "width": 2100
       },
       "config": {
        "plotlyServerURL": "https://plot.ly"
       }
      }
     },
     "metadata": {},
     "output_type": "display_data"
    },
    {
     "data": {
      "application/vnd.plotly.v1+json": {
       "data": [
        {
         "dimensions": [
          {
           "label": "Objective Value",
           "range": [
            1.1111788234455826,
            1.3888959373369951
           ],
           "values": [
            1.3888959373369951,
            1.1111788234455826
           ]
          },
          {
           "label": "bagging_temperature",
           "range": [
            0.23694226951564235,
            0.29079392420788186
           ],
           "values": [
            0.23694226951564235,
            0.29079392420788186
           ]
          },
          {
           "label": "depth",
           "range": [
            6,
            6
           ],
           "values": [
            6,
            6
           ]
          },
          {
           "label": "iterations",
           "range": [
            362,
            864
           ],
           "values": [
            362,
            864
           ]
          },
          {
           "label": "l2_leaf_reg",
           "range": [
            -1.9626263830595356,
            0.039413434591756766
           ],
           "ticktext": [
            "0.0109",
            "0.1",
            "1",
            "1.09"
           ],
           "tickvals": [
            -1.9626263830595356,
            -1,
            0,
            0.039413434591756766
           ],
           "values": [
            0.039413434591756766,
            -1.9626263830595356
           ]
          },
          {
           "label": "learning_rate",
           "range": [
            -1.8507447298186772,
            -1.7561030575121526
           ],
           "ticktext": [
            "0.0141",
            "0.0175"
           ],
           "tickvals": [
            -1.8507447298186772,
            -1.7561030575121526
           ],
           "values": [
            -1.8507447298186772,
            -1.7561030575121526
           ]
          },
          {
           "label": "random_strength",
           "range": [
            -0.8350544049734254,
            -0.6628518963106736
           ],
           "ticktext": [
            "0.146",
            "0.217"
           ],
           "tickvals": [
            -0.8350544049734254,
            -0.6628518963106736
           ],
           "values": [
            -0.6628518963106736,
            -0.8350544049734254
           ]
          },
          {
           "label": "rsm",
           "range": [
            0.7693123561930143,
            0.9362757050703845
           ],
           "values": [
            0.7693123561930143,
            0.9362757050703845
           ]
          }
         ],
         "labelangle": 30,
         "labelside": "bottom",
         "line": {
          "color": [
           1.3888959373369951,
           1.1111788234455826
          ],
          "colorbar": {
           "title": {
            "text": "Objective Value"
           }
          },
          "colorscale": [
           [
            0.0,
            "rgb(247,251,255)"
           ],
           [
            0.125,
            "rgb(222,235,247)"
           ],
           [
            0.25,
            "rgb(198,219,239)"
           ],
           [
            0.375,
            "rgb(158,202,225)"
           ],
           [
            0.5,
            "rgb(107,174,214)"
           ],
           [
            0.625,
            "rgb(66,146,198)"
           ],
           [
            0.75,
            "rgb(33,113,181)"
           ],
           [
            0.875,
            "rgb(8,81,156)"
           ],
           [
            1.0,
            "rgb(8,48,107)"
           ]
          ],
          "reversescale": true,
          "showscale": true
         },
         "type": "parcoords"
        }
       ],
       "layout": {
        "title": {
         "text": "Parallel Coordinate Plot"
        },
        "template": {
         "data": {
          "histogram2dcontour": [
           {
            "type": "histogram2dcontour",
            "colorbar": {
             "outlinewidth": 0,
             "ticks": ""
            },
            "colorscale": [
             [
              0.0,
              "#0d0887"
             ],
             [
              0.1111111111111111,
              "#46039f"
             ],
             [
              0.2222222222222222,
              "#7201a8"
             ],
             [
              0.3333333333333333,
              "#9c179e"
             ],
             [
              0.4444444444444444,
              "#bd3786"
             ],
             [
              0.5555555555555556,
              "#d8576b"
             ],
             [
              0.6666666666666666,
              "#ed7953"
             ],
             [
              0.7777777777777778,
              "#fb9f3a"
             ],
             [
              0.8888888888888888,
              "#fdca26"
             ],
             [
              1.0,
              "#f0f921"
             ]
            ]
           }
          ],
          "choropleth": [
           {
            "type": "choropleth",
            "colorbar": {
             "outlinewidth": 0,
             "ticks": ""
            }
           }
          ],
          "histogram2d": [
           {
            "type": "histogram2d",
            "colorbar": {
             "outlinewidth": 0,
             "ticks": ""
            },
            "colorscale": [
             [
              0.0,
              "#0d0887"
             ],
             [
              0.1111111111111111,
              "#46039f"
             ],
             [
              0.2222222222222222,
              "#7201a8"
             ],
             [
              0.3333333333333333,
              "#9c179e"
             ],
             [
              0.4444444444444444,
              "#bd3786"
             ],
             [
              0.5555555555555556,
              "#d8576b"
             ],
             [
              0.6666666666666666,
              "#ed7953"
             ],
             [
              0.7777777777777778,
              "#fb9f3a"
             ],
             [
              0.8888888888888888,
              "#fdca26"
             ],
             [
              1.0,
              "#f0f921"
             ]
            ]
           }
          ],
          "heatmap": [
           {
            "type": "heatmap",
            "colorbar": {
             "outlinewidth": 0,
             "ticks": ""
            },
            "colorscale": [
             [
              0.0,
              "#0d0887"
             ],
             [
              0.1111111111111111,
              "#46039f"
             ],
             [
              0.2222222222222222,
              "#7201a8"
             ],
             [
              0.3333333333333333,
              "#9c179e"
             ],
             [
              0.4444444444444444,
              "#bd3786"
             ],
             [
              0.5555555555555556,
              "#d8576b"
             ],
             [
              0.6666666666666666,
              "#ed7953"
             ],
             [
              0.7777777777777778,
              "#fb9f3a"
             ],
             [
              0.8888888888888888,
              "#fdca26"
             ],
             [
              1.0,
              "#f0f921"
             ]
            ]
           }
          ],
          "contourcarpet": [
           {
            "type": "contourcarpet",
            "colorbar": {
             "outlinewidth": 0,
             "ticks": ""
            }
           }
          ],
          "contour": [
           {
            "type": "contour",
            "colorbar": {
             "outlinewidth": 0,
             "ticks": ""
            },
            "colorscale": [
             [
              0.0,
              "#0d0887"
             ],
             [
              0.1111111111111111,
              "#46039f"
             ],
             [
              0.2222222222222222,
              "#7201a8"
             ],
             [
              0.3333333333333333,
              "#9c179e"
             ],
             [
              0.4444444444444444,
              "#bd3786"
             ],
             [
              0.5555555555555556,
              "#d8576b"
             ],
             [
              0.6666666666666666,
              "#ed7953"
             ],
             [
              0.7777777777777778,
              "#fb9f3a"
             ],
             [
              0.8888888888888888,
              "#fdca26"
             ],
             [
              1.0,
              "#f0f921"
             ]
            ]
           }
          ],
          "surface": [
           {
            "type": "surface",
            "colorbar": {
             "outlinewidth": 0,
             "ticks": ""
            },
            "colorscale": [
             [
              0.0,
              "#0d0887"
             ],
             [
              0.1111111111111111,
              "#46039f"
             ],
             [
              0.2222222222222222,
              "#7201a8"
             ],
             [
              0.3333333333333333,
              "#9c179e"
             ],
             [
              0.4444444444444444,
              "#bd3786"
             ],
             [
              0.5555555555555556,
              "#d8576b"
             ],
             [
              0.6666666666666666,
              "#ed7953"
             ],
             [
              0.7777777777777778,
              "#fb9f3a"
             ],
             [
              0.8888888888888888,
              "#fdca26"
             ],
             [
              1.0,
              "#f0f921"
             ]
            ]
           }
          ],
          "mesh3d": [
           {
            "type": "mesh3d",
            "colorbar": {
             "outlinewidth": 0,
             "ticks": ""
            }
           }
          ],
          "scatter": [
           {
            "fillpattern": {
             "fillmode": "overlay",
             "size": 10,
             "solidity": 0.2
            },
            "type": "scatter"
           }
          ],
          "parcoords": [
           {
            "type": "parcoords",
            "line": {
             "colorbar": {
              "outlinewidth": 0,
              "ticks": ""
             }
            }
           }
          ],
          "scatterpolargl": [
           {
            "type": "scatterpolargl",
            "marker": {
             "colorbar": {
              "outlinewidth": 0,
              "ticks": ""
             }
            }
           }
          ],
          "bar": [
           {
            "error_x": {
             "color": "#2a3f5f"
            },
            "error_y": {
             "color": "#2a3f5f"
            },
            "marker": {
             "line": {
              "color": "#E5ECF6",
              "width": 0.5
             },
             "pattern": {
              "fillmode": "overlay",
              "size": 10,
              "solidity": 0.2
             }
            },
            "type": "bar"
           }
          ],
          "scattergeo": [
           {
            "type": "scattergeo",
            "marker": {
             "colorbar": {
              "outlinewidth": 0,
              "ticks": ""
             }
            }
           }
          ],
          "scatterpolar": [
           {
            "type": "scatterpolar",
            "marker": {
             "colorbar": {
              "outlinewidth": 0,
              "ticks": ""
             }
            }
           }
          ],
          "histogram": [
           {
            "marker": {
             "pattern": {
              "fillmode": "overlay",
              "size": 10,
              "solidity": 0.2
             }
            },
            "type": "histogram"
           }
          ],
          "scattergl": [
           {
            "type": "scattergl",
            "marker": {
             "colorbar": {
              "outlinewidth": 0,
              "ticks": ""
             }
            }
           }
          ],
          "scatter3d": [
           {
            "type": "scatter3d",
            "line": {
             "colorbar": {
              "outlinewidth": 0,
              "ticks": ""
             }
            },
            "marker": {
             "colorbar": {
              "outlinewidth": 0,
              "ticks": ""
             }
            }
           }
          ],
          "scattermap": [
           {
            "type": "scattermap",
            "marker": {
             "colorbar": {
              "outlinewidth": 0,
              "ticks": ""
             }
            }
           }
          ],
          "scattermapbox": [
           {
            "type": "scattermapbox",
            "marker": {
             "colorbar": {
              "outlinewidth": 0,
              "ticks": ""
             }
            }
           }
          ],
          "scatterternary": [
           {
            "type": "scatterternary",
            "marker": {
             "colorbar": {
              "outlinewidth": 0,
              "ticks": ""
             }
            }
           }
          ],
          "scattercarpet": [
           {
            "type": "scattercarpet",
            "marker": {
             "colorbar": {
              "outlinewidth": 0,
              "ticks": ""
             }
            }
           }
          ],
          "carpet": [
           {
            "aaxis": {
             "endlinecolor": "#2a3f5f",
             "gridcolor": "white",
             "linecolor": "white",
             "minorgridcolor": "white",
             "startlinecolor": "#2a3f5f"
            },
            "baxis": {
             "endlinecolor": "#2a3f5f",
             "gridcolor": "white",
             "linecolor": "white",
             "minorgridcolor": "white",
             "startlinecolor": "#2a3f5f"
            },
            "type": "carpet"
           }
          ],
          "table": [
           {
            "cells": {
             "fill": {
              "color": "#EBF0F8"
             },
             "line": {
              "color": "white"
             }
            },
            "header": {
             "fill": {
              "color": "#C8D4E3"
             },
             "line": {
              "color": "white"
             }
            },
            "type": "table"
           }
          ],
          "barpolar": [
           {
            "marker": {
             "line": {
              "color": "#E5ECF6",
              "width": 0.5
             },
             "pattern": {
              "fillmode": "overlay",
              "size": 10,
              "solidity": 0.2
             }
            },
            "type": "barpolar"
           }
          ],
          "pie": [
           {
            "automargin": true,
            "type": "pie"
           }
          ]
         },
         "layout": {
          "autotypenumbers": "strict",
          "colorway": [
           "#636efa",
           "#EF553B",
           "#00cc96",
           "#ab63fa",
           "#FFA15A",
           "#19d3f3",
           "#FF6692",
           "#B6E880",
           "#FF97FF",
           "#FECB52"
          ],
          "font": {
           "color": "#2a3f5f"
          },
          "hovermode": "closest",
          "hoverlabel": {
           "align": "left"
          },
          "paper_bgcolor": "white",
          "plot_bgcolor": "#E5ECF6",
          "polar": {
           "bgcolor": "#E5ECF6",
           "angularaxis": {
            "gridcolor": "white",
            "linecolor": "white",
            "ticks": ""
           },
           "radialaxis": {
            "gridcolor": "white",
            "linecolor": "white",
            "ticks": ""
           }
          },
          "ternary": {
           "bgcolor": "#E5ECF6",
           "aaxis": {
            "gridcolor": "white",
            "linecolor": "white",
            "ticks": ""
           },
           "baxis": {
            "gridcolor": "white",
            "linecolor": "white",
            "ticks": ""
           },
           "caxis": {
            "gridcolor": "white",
            "linecolor": "white",
            "ticks": ""
           }
          },
          "coloraxis": {
           "colorbar": {
            "outlinewidth": 0,
            "ticks": ""
           }
          },
          "colorscale": {
           "sequential": [
            [
             0.0,
             "#0d0887"
            ],
            [
             0.1111111111111111,
             "#46039f"
            ],
            [
             0.2222222222222222,
             "#7201a8"
            ],
            [
             0.3333333333333333,
             "#9c179e"
            ],
            [
             0.4444444444444444,
             "#bd3786"
            ],
            [
             0.5555555555555556,
             "#d8576b"
            ],
            [
             0.6666666666666666,
             "#ed7953"
            ],
            [
             0.7777777777777778,
             "#fb9f3a"
            ],
            [
             0.8888888888888888,
             "#fdca26"
            ],
            [
             1.0,
             "#f0f921"
            ]
           ],
           "sequentialminus": [
            [
             0.0,
             "#0d0887"
            ],
            [
             0.1111111111111111,
             "#46039f"
            ],
            [
             0.2222222222222222,
             "#7201a8"
            ],
            [
             0.3333333333333333,
             "#9c179e"
            ],
            [
             0.4444444444444444,
             "#bd3786"
            ],
            [
             0.5555555555555556,
             "#d8576b"
            ],
            [
             0.6666666666666666,
             "#ed7953"
            ],
            [
             0.7777777777777778,
             "#fb9f3a"
            ],
            [
             0.8888888888888888,
             "#fdca26"
            ],
            [
             1.0,
             "#f0f921"
            ]
           ],
           "diverging": [
            [
             0,
             "#8e0152"
            ],
            [
             0.1,
             "#c51b7d"
            ],
            [
             0.2,
             "#de77ae"
            ],
            [
             0.3,
             "#f1b6da"
            ],
            [
             0.4,
             "#fde0ef"
            ],
            [
             0.5,
             "#f7f7f7"
            ],
            [
             0.6,
             "#e6f5d0"
            ],
            [
             0.7,
             "#b8e186"
            ],
            [
             0.8,
             "#7fbc41"
            ],
            [
             0.9,
             "#4d9221"
            ],
            [
             1,
             "#276419"
            ]
           ]
          },
          "xaxis": {
           "gridcolor": "white",
           "linecolor": "white",
           "ticks": "",
           "title": {
            "standoff": 15
           },
           "zerolinecolor": "white",
           "automargin": true,
           "zerolinewidth": 2
          },
          "yaxis": {
           "gridcolor": "white",
           "linecolor": "white",
           "ticks": "",
           "title": {
            "standoff": 15
           },
           "zerolinecolor": "white",
           "automargin": true,
           "zerolinewidth": 2
          },
          "scene": {
           "xaxis": {
            "backgroundcolor": "#E5ECF6",
            "gridcolor": "white",
            "linecolor": "white",
            "showbackground": true,
            "ticks": "",
            "zerolinecolor": "white",
            "gridwidth": 2
           },
           "yaxis": {
            "backgroundcolor": "#E5ECF6",
            "gridcolor": "white",
            "linecolor": "white",
            "showbackground": true,
            "ticks": "",
            "zerolinecolor": "white",
            "gridwidth": 2
           },
           "zaxis": {
            "backgroundcolor": "#E5ECF6",
            "gridcolor": "white",
            "linecolor": "white",
            "showbackground": true,
            "ticks": "",
            "zerolinecolor": "white",
            "gridwidth": 2
           }
          },
          "shapedefaults": {
           "line": {
            "color": "#2a3f5f"
           }
          },
          "annotationdefaults": {
           "arrowcolor": "#2a3f5f",
           "arrowhead": 0,
           "arrowwidth": 1
          },
          "geo": {
           "bgcolor": "white",
           "landcolor": "#E5ECF6",
           "subunitcolor": "white",
           "showland": true,
           "showlakes": true,
           "lakecolor": "white"
          },
          "title": {
           "x": 0.05
          },
          "mapbox": {
           "style": "light"
          }
         }
        }
       },
       "config": {
        "plotlyServerURL": "https://plot.ly"
       }
      }
     },
     "metadata": {},
     "output_type": "display_data"
    }
   ],
   "execution_count": 104
  },
  {
   "metadata": {
    "ExecuteTime": {
     "end_time": "2025-08-06T11:37:50.075768Z",
     "start_time": "2025-08-06T11:37:50.068027Z"
    }
   },
   "cell_type": "code",
   "source": [
    "def objective_RF(trial, df_original):\n",
    "    df_full = copy.deepcopy(df_original)\n",
    "\n",
    "    df_train_model = pd.concat([df_full[0], df_full[\n",
    "        1]])  # Random Forests & Extra Forests don't requers early stopping, so I've decided to merge val and test\n",
    "    df_test_model = df_full[2]\n",
    "\n",
    "    X_train = df_train_model.drop(columns=[\"Name\", \"Global_Sales\"])\n",
    "    y_train = df_train_model[\"Global_Sales\"]\n",
    "\n",
    "    X_test = df_test_model.drop(columns=[\"Name\", \"Global_Sales\"])\n",
    "    y_test = df_test_model[\"Global_Sales\"]\n",
    "\n",
    "    cat_features = X_train.select_dtypes(include=['object']).columns.tolist()\n",
    "\n",
    "    if cat_features:\n",
    "        for col in cat_features:\n",
    "            le = LabelEncoder()\n",
    "            all_values = pd.concat([X_train[col], X_test[col]])\n",
    "            le.fit(all_values.astype(str))\n",
    "\n",
    "            X_train[col] = le.transform(X_train[col].astype(str))\n",
    "            X_test[col] = le.transform(X_test[col].astype(str))\n",
    "\n",
    "    params = {\n",
    "        'n_estimators': trial.suggest_int('n_estimators', 200, 2000, step=100),\n",
    "        'max_depth': trial.suggest_int('max_depth', 5, 25),\n",
    "        'min_samples_split': trial.suggest_int('min_samples_split', 2, 20),\n",
    "        'min_samples_leaf': trial.suggest_int('min_samples_leaf', 1, 10),\n",
    "        'max_features': trial.suggest_categorical('max_features', ['sqrt', 'log2', 0.3, 0.5, 0.7, 0.9]),\n",
    "        'bootstrap': trial.suggest_categorical('bootstrap', [True, False]),\n",
    "        'random_state': 42,\n",
    "        'n_jobs': -1\n",
    "    }\n",
    "\n",
    "    if params['bootstrap']:\n",
    "        params['max_samples'] = trial.suggest_float('max_samples', 0.5, 1.0)\n",
    "\n",
    "    model = RandomForestRegressor(**params)\n",
    "    model.fit(X_train, y_train)\n",
    "\n",
    "    preds = model.predict(X_test)\n",
    "    mse = mean_squared_error(y_test, preds)\n",
    "    rmse = np.sqrt(mse)\n",
    "    return rmse"
   ],
   "id": "df3785c91bbd841b",
   "outputs": [],
   "execution_count": 105
  },
  {
   "metadata": {
    "ExecuteTime": {
     "end_time": "2025-08-06T11:37:50.392956Z",
     "start_time": "2025-08-06T11:37:50.384208Z"
    }
   },
   "cell_type": "code",
   "source": [
    "def objective_EF(trial, df_original):\n",
    "    df_full = copy.deepcopy(df_original)\n",
    "\n",
    "    df_train_model = pd.concat([df_full[0], df_full[1]])\n",
    "    df_test_model = df_full[2]\n",
    "\n",
    "    X_train = df_train_model.drop(columns=[\"Name\", \"Global_Sales\"])\n",
    "    y_train = df_train_model[\"Global_Sales\"]\n",
    "\n",
    "    X_test = df_test_model.drop(columns=[\"Name\", \"Global_Sales\"])\n",
    "    y_test = df_test_model[\"Global_Sales\"]\n",
    "\n",
    "    cat_features = X_train.select_dtypes(include=['object']).columns.tolist()\n",
    "\n",
    "    if cat_features:\n",
    "        for col in cat_features:\n",
    "            le = LabelEncoder()\n",
    "            all_values = pd.concat([X_train[col], X_test[col]])\n",
    "            le.fit(all_values.astype(str))\n",
    "\n",
    "            X_train[col] = le.transform(X_train[col].astype(str))\n",
    "            X_test[col] = le.transform(X_test[col].astype(str))\n",
    "\n",
    "    params = {\n",
    "        'n_estimators': trial.suggest_int('n_estimators', 400, 2500, step=100),\n",
    "        'max_depth': trial.suggest_int('max_depth', 8, 35),\n",
    "        'min_samples_split': trial.suggest_int('min_samples_split', 2, 15),\n",
    "        'min_samples_leaf': trial.suggest_int('min_samples_leaf', 1, 8),\n",
    "        'max_features': trial.suggest_categorical('max_features', ['sqrt', 'log2', 0.2, 0.3, 0.5, 0.7]),\n",
    "        'bootstrap': trial.suggest_categorical('bootstrap', [False, True]),\n",
    "        'random_state': 42,\n",
    "        'n_jobs': -1\n",
    "    }\n",
    "\n",
    "    if params['bootstrap']:\n",
    "        params['max_samples'] = trial.suggest_float('max_samples', 0.5, 1.0)\n",
    "\n",
    "    model = ExtraTreesRegressor(**params)\n",
    "    model.fit(X_train, y_train)\n",
    "\n",
    "    preds = model.predict(X_test)\n",
    "    mse = mean_squared_error(y_test, preds)\n",
    "    rmse = np.sqrt(mse)\n",
    "    return rmse"
   ],
   "id": "b9baeaab4b5d7af3",
   "outputs": [],
   "execution_count": 106
  },
  {
   "metadata": {
    "ExecuteTime": {
     "end_time": "2025-08-06T11:37:52.583901Z",
     "start_time": "2025-08-06T11:37:50.574966Z"
    }
   },
   "cell_type": "code",
   "source": [
    "obj_fn = partial(objective_RF, df_original = full_df_advanced)\n",
    "\n",
    "study_rf = optuna.create_study(direction=\"minimize\", study_name='RandomForest_Optimization')\n",
    "study_rf.optimize(obj_fn, n_trials= 1) # Set 50\n",
    "\n",
    "print(\"Best trial:\")\n",
    "print(study_rf.best_trial.params)"
   ],
   "id": "f879a9628d08154c",
   "outputs": [
    {
     "name": "stderr",
     "output_type": "stream",
     "text": [
      "[I 2025-08-06 14:37:50,577] A new study created in memory with name: RandomForest_Optimization\n",
      "[I 2025-08-06 14:37:52,581] Trial 0 finished with value: 1.4922294007467374 and parameters: {'n_estimators': 1300, 'max_depth': 5, 'min_samples_split': 5, 'min_samples_leaf': 10, 'max_features': 0.3, 'bootstrap': False}. Best is trial 0 with value: 1.4922294007467374.\n"
     ]
    },
    {
     "name": "stdout",
     "output_type": "stream",
     "text": [
      "Best trial:\n",
      "{'n_estimators': 1300, 'max_depth': 5, 'min_samples_split': 5, 'min_samples_leaf': 10, 'max_features': 0.3, 'bootstrap': False}\n"
     ]
    }
   ],
   "execution_count": 107
  },
  {
   "metadata": {
    "ExecuteTime": {
     "end_time": "2025-08-06T11:37:53.894953Z",
     "start_time": "2025-08-06T11:37:52.603345Z"
    }
   },
   "cell_type": "code",
   "source": [
    "obj_fn = partial(objective_EF, df_original = full_df_advanced)\n",
    "\n",
    "study_ef = optuna.create_study(direction=\"minimize\", study_name='ExtraForest_Optimization')\n",
    "study_ef.optimize(obj_fn, n_trials= 1) # Set 50\n",
    "\n",
    "print(\"Best trial:\")\n",
    "print(study_ef.best_trial.params)"
   ],
   "id": "b49c36d772235c0d",
   "outputs": [
    {
     "name": "stderr",
     "output_type": "stream",
     "text": [
      "[I 2025-08-06 14:37:52,605] A new study created in memory with name: ExtraForest_Optimization\n",
      "[I 2025-08-06 14:37:53,891] Trial 0 finished with value: 1.6819093970119527 and parameters: {'n_estimators': 600, 'max_depth': 8, 'min_samples_split': 10, 'min_samples_leaf': 4, 'max_features': 0.2, 'bootstrap': True, 'max_samples': 0.7618552347511236}. Best is trial 0 with value: 1.6819093970119527.\n"
     ]
    },
    {
     "name": "stdout",
     "output_type": "stream",
     "text": [
      "Best trial:\n",
      "{'n_estimators': 600, 'max_depth': 8, 'min_samples_split': 10, 'min_samples_leaf': 4, 'max_features': 0.2, 'bootstrap': True, 'max_samples': 0.7618552347511236}\n"
     ]
    }
   ],
   "execution_count": 108
  },
  {
   "metadata": {
    "ExecuteTime": {
     "end_time": "2025-08-06T11:37:54.199346Z",
     "start_time": "2025-08-06T11:37:54.190555Z"
    }
   },
   "cell_type": "code",
   "source": [
    "def objective_RM(trial, origin_df):\n",
    "    selected_features = [\n",
    "\n",
    "        # Top important features\n",
    "        'User_Count',\n",
    "        'Platform',\n",
    "        'Genre',\n",
    "        'Year_of_Release',\n",
    "        'Platform_User_Count',\n",
    "\n",
    "        # Meta-features\n",
    "        'Model_Prediction', 'Squared_prediction', 'Z_score', 'Prediction_Percentile',\n",
    "\n",
    "        # Target\n",
    "        'Residuals'\n",
    "    ]\n",
    "\n",
    "    enhanced_features = [df[selected_features].copy() for df in origin_df]\n",
    "\n",
    "    df_train_model = enhanced_features[0].copy()\n",
    "    df_test_model = enhanced_features[1].copy()\n",
    "\n",
    "    X_train = df_train_model.drop(columns=[\"Residuals\"])\n",
    "    y_train = df_train_model[\"Residuals\"]\n",
    "\n",
    "    X_test = df_test_model.drop(columns=[\"Residuals\"])\n",
    "    y_test = df_test_model[\"Residuals\"]\n",
    "\n",
    "    cat_features = X_train.select_dtypes(include=['object']).columns.tolist()\n",
    "\n",
    "    if cat_features:\n",
    "        for col in cat_features:\n",
    "            le = LabelEncoder()\n",
    "            all_values = pd.concat([X_train[col], X_test[col]])\n",
    "            le.fit(all_values.astype(str))\n",
    "\n",
    "            X_train[col] = le.transform(X_train[col].astype(str))\n",
    "            X_test[col] = le.transform(X_test[col].astype(str))\n",
    "\n",
    "    loss_choice = trial.suggest_categorical(\"loss\", [\"mae\", \"mse\"])\n",
    "    if loss_choice == \"mae\":\n",
    "        objective = \"reg:absoluteerror\"\n",
    "    else:\n",
    "        objective = \"reg:squarederror\"\n",
    "    params = {\n",
    "        'n_estimators': trial.suggest_int('n_estimators', 20, 500),\n",
    "        'max_depth': trial.suggest_int('max_depth', 2, 8),\n",
    "        'learning_rate': trial.suggest_float('learning_rate', 0.01, 0.3, log=True),\n",
    "        'subsample': trial.suggest_float('subsample', 0.6, 1.0),\n",
    "        'colsample_bytree': trial.suggest_float('colsample_bytree', 0.6, 1.0),\n",
    "        'reg_alpha': trial.suggest_float('reg_alpha', 0.0, 10.0),\n",
    "        'reg_lambda': trial.suggest_float('reg_lambda', 0.0, 10.0),\n",
    "        'min_child_weight': trial.suggest_int('min_child_weight', 1, 10),\n",
    "        'objective': objective,\n",
    "        'random_state': 42\n",
    "    }\n",
    "\n",
    "    model = xgb.XGBRegressor(**params)\n",
    "    model.fit(X_train, y_train, verbose=False)\n",
    "    preds = model.predict(X_test)\n",
    "    rmse = np.sqrt(mean_squared_error(y_test, preds))\n",
    "\n",
    "    return rmse"
   ],
   "id": "37f64d6ea7c86552",
   "outputs": [],
   "execution_count": 109
  },
  {
   "metadata": {
    "ExecuteTime": {
     "end_time": "2025-08-06T11:37:54.659044Z",
     "start_time": "2025-08-06T11:37:54.366939Z"
    }
   },
   "cell_type": "code",
   "source": [
    "study = optuna.create_study(direction='minimize')\n",
    "\n",
    "study.optimize(lambda trial: objective_RM(trial, origin_df=residual_model_df), n_trials=1) # Set 250"
   ],
   "id": "43c58c66ca2ba945",
   "outputs": [
    {
     "name": "stderr",
     "output_type": "stream",
     "text": [
      "[I 2025-08-06 14:37:54,369] A new study created in memory with name: no-name-c0c4a34c-b108-43db-8a57-593c46e84b19\n",
      "[I 2025-08-06 14:37:54,656] Trial 0 finished with value: 0.2082861346299132 and parameters: {'loss': 'mae', 'n_estimators': 236, 'max_depth': 8, 'learning_rate': 0.0203789868428868, 'subsample': 0.7041599687710813, 'colsample_bytree': 0.7001614667187733, 'reg_alpha': 6.515061540235244, 'reg_lambda': 0.585524061147219, 'min_child_weight': 5}. Best is trial 0 with value: 0.2082861346299132.\n"
     ]
    }
   ],
   "execution_count": 110
  },
  {
   "metadata": {
    "ExecuteTime": {
     "end_time": "2025-08-06T11:37:54.671034Z",
     "start_time": "2025-08-06T11:37:54.666202Z"
    }
   },
   "cell_type": "code",
   "source": [
    "#### Optimization archive\n",
    "# Main model\n",
    "#{'iterations': 4606, 'depth': 9, 'learning_rate': 0.06657010579964637, 'l2_leaf_reg': 1.0489107047302053, 'bagging_temperature': 0.07852150947288883, 'random_strength': 0.036057785785986646, 'rsm': 0.812826754080271}\n",
    "# Optimized parameters for non-log target (R2 = 0.67)\n",
    "#{'iterations': 4502, 'depth': 9, 'learning_rate': 0.05655092655299971, 'l2_leaf_reg': 0.20720063689314963, 'bagging_temperature': 0.2957483841973214, 'random_strength': 0.1575990871426289, 'rsm': 0.9545478304595558}\n",
    "# Optimized parameters for log target\n",
    "#{'iterations': 3916, 'depth': 8, 'learning_rate': 0.01651871359633916, 'l2_leaf_reg': 0.8416781669667702, 'bagging_temperature': 0.921976724800867, 'random_strength': 0.30716189050134707, 'rsm': 0.8402469171015531}\n",
    "#0.74\n",
    "#iterations = 3916, early_stopping_rounds= int(3916*0.1+50), posterior_sampling=True, rsm = 0.8402469171015531, task_type = \"CPU\", depth = 8, l2_leaf_reg =  0.8416781669667702, learning_rate = 0.01651871359633916, bagging_temperature = 0.921976724800867,  random_strength = 0.30716189050134707)\n",
    "\n",
    "# Residual model\n",
    "    #{'objective': 'reg:absoluteerror', 'n_estimators': 127, 'max_depth': 6, 'learning_rate': 0.06564633425905439, 'subsample': 0.8769926791780822, 'colsample_bytree': 0.8845758372037356, 'reg_alpha': 2.8842657393540563, 'reg_lambda': 6.573616179427852, 'min_child_weight': 2}\n",
    "    #{'objective': 'reg:squarederror', 'n_estimators': 350, 'max_depth': 2, 'learning_rate': 0.14605401918661187, 'subsample': 0.6255178340438093, 'colsample_bytree': 0.8796077731536921, 'reg_alpha': 2.9787854216762537, 'reg_lambda': 5.089561375384223, 'min_child_weight': 2}\n",
    "    #{'objective': 'reg:squarederror', 'n_estimators': 125, 'max_depth': 7, 'learning_rate': 0.011980065792231443, 'subsample': 0.7253956550922979, 'colsample_bytree': 0.9198316530234281, 'reg_alpha': 0.6881066458642314, 'reg_lambda': 8.925581604064632, 'min_child_weight': 7}\n",
    "    #{'objective': 'reg:absoluteerror', 'n_estimators': 127, 'max_depth': 6, 'learning_rate': 0.06564633425905439, 'subsample': 0.8769926791780822, 'colsample_bytree': 0.8845758372037356, 'reg_alpha': 2.8842657393540563, 'reg_lambda': 6.573616179427852, 'min_child_weight': 2}"
   ],
   "id": "1639770e9514e510",
   "outputs": [],
   "execution_count": 111
  },
  {
   "metadata": {},
   "cell_type": "markdown",
   "source": "### Insight",
   "id": "943ba68907813bd7"
  },
  {
   "metadata": {},
   "cell_type": "markdown",
   "source": "This asymmetric metric might be useful, but I don't have time to finish it and test it.",
   "id": "81754b32bf4b9631"
  },
  {
   "metadata": {
    "ExecuteTime": {
     "end_time": "2025-08-06T11:37:55.010041Z",
     "start_time": "2025-08-06T11:37:55.003315Z"
    }
   },
   "cell_type": "code",
   "source": [
    "def directional_penalty_obj(y_pred, y_true_data, alpha=2.0):\n",
    "\n",
    "    y_true = y_true_data.get_label()\n",
    "    alpha = 2.0\n",
    "    k = 10.0\n",
    "\n",
    "\n",
    "    grad_mae = np.sign(y_pred - y_true)\n",
    "\n",
    "\n",
    "    grad_penalty = -alpha * np.tanh(k * y_true) * (k * (1 - np.tanh(k * y_pred) ** 2))\n",
    "\n",
    "    grad = grad_mae + grad_penalty\n",
    "\n",
    "\n",
    "    hess_base = np.ones_like(y_true)\n",
    "\n",
    "\n",
    "    hess_penalty = -alpha * np.tanh(k * y_true) * \\\n",
    "                   (-2 * k ** 2 * np.tanh(k * y_pred) * (1 - np.tanh(k * y_pred) ** 2))\n",
    "\n",
    "    hess = hess_base + hess_penalty\n",
    "\n",
    "    hess = np.maximum(hess, 1e-6)"
   ],
   "id": "3b76ffdff1cf888f",
   "outputs": [],
   "execution_count": 112
  }
 ],
 "metadata": {
  "kernelspec": {
   "display_name": "Python 3",
   "language": "python",
   "name": "python3"
  },
  "language_info": {
   "codemirror_mode": {
    "name": "ipython",
    "version": 2
   },
   "file_extension": ".py",
   "mimetype": "text/x-python",
   "name": "python",
   "nbconvert_exporter": "python",
   "pygments_lexer": "ipython2",
   "version": "2.7.6"
  }
 },
 "nbformat": 4,
 "nbformat_minor": 5
}
